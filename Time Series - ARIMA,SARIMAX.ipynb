{
 "cells": [
  {
   "cell_type": "code",
   "execution_count": 24,
   "id": "6b912c29",
   "metadata": {},
   "outputs": [],
   "source": [
    "import numpy as np\n",
    "import matplotlib.pyplot as plt\n",
    "import statsmodels.api as sms\n",
    "import pandas as pd\n",
    "\n",
    "%matplotlib inline"
   ]
  },
  {
   "cell_type": "code",
   "execution_count": 25,
   "id": "c8f44aa9",
   "metadata": {},
   "outputs": [
    {
     "data": {
      "text/html": [
       "<div>\n",
       "<style scoped>\n",
       "    .dataframe tbody tr th:only-of-type {\n",
       "        vertical-align: middle;\n",
       "    }\n",
       "\n",
       "    .dataframe tbody tr th {\n",
       "        vertical-align: top;\n",
       "    }\n",
       "\n",
       "    .dataframe thead th {\n",
       "        text-align: right;\n",
       "    }\n",
       "</style>\n",
       "<table border=\"1\" class=\"dataframe\">\n",
       "  <thead>\n",
       "    <tr style=\"text-align: right;\">\n",
       "      <th></th>\n",
       "      <th>Month</th>\n",
       "      <th>Thousands of Passengers</th>\n",
       "    </tr>\n",
       "  </thead>\n",
       "  <tbody>\n",
       "    <tr>\n",
       "      <th>0</th>\n",
       "      <td>1949-01</td>\n",
       "      <td>112.0</td>\n",
       "    </tr>\n",
       "    <tr>\n",
       "      <th>1</th>\n",
       "      <td>1949-02</td>\n",
       "      <td>118.0</td>\n",
       "    </tr>\n",
       "    <tr>\n",
       "      <th>2</th>\n",
       "      <td>1949-03</td>\n",
       "      <td>132.0</td>\n",
       "    </tr>\n",
       "    <tr>\n",
       "      <th>3</th>\n",
       "      <td>1949-04</td>\n",
       "      <td>129.0</td>\n",
       "    </tr>\n",
       "    <tr>\n",
       "      <th>4</th>\n",
       "      <td>1949-05</td>\n",
       "      <td>121.0</td>\n",
       "    </tr>\n",
       "  </tbody>\n",
       "</table>\n",
       "</div>"
      ],
      "text/plain": [
       "     Month  Thousands of Passengers\n",
       "0  1949-01                    112.0\n",
       "1  1949-02                    118.0\n",
       "2  1949-03                    132.0\n",
       "3  1949-04                    129.0\n",
       "4  1949-05                    121.0"
      ]
     },
     "execution_count": 25,
     "metadata": {},
     "output_type": "execute_result"
    }
   ],
   "source": [
    "df_airline = pd.read_csv('airline_passengers.csv')\n",
    "df_airline.head()"
   ]
  },
  {
   "cell_type": "code",
   "execution_count": 26,
   "id": "ef540e48",
   "metadata": {},
   "outputs": [
    {
     "data": {
      "text/plain": [
       "Month                      0\n",
       "Thousands of Passengers    1\n",
       "dtype: int64"
      ]
     },
     "execution_count": 26,
     "metadata": {},
     "output_type": "execute_result"
    }
   ],
   "source": [
    "df_airline.isnull().sum()"
   ]
  },
  {
   "cell_type": "code",
   "execution_count": 27,
   "id": "aa0566ac",
   "metadata": {},
   "outputs": [
    {
     "data": {
      "text/html": [
       "<div>\n",
       "<style scoped>\n",
       "    .dataframe tbody tr th:only-of-type {\n",
       "        vertical-align: middle;\n",
       "    }\n",
       "\n",
       "    .dataframe tbody tr th {\n",
       "        vertical-align: top;\n",
       "    }\n",
       "\n",
       "    .dataframe thead th {\n",
       "        text-align: right;\n",
       "    }\n",
       "</style>\n",
       "<table border=\"1\" class=\"dataframe\">\n",
       "  <thead>\n",
       "    <tr style=\"text-align: right;\">\n",
       "      <th></th>\n",
       "      <th>Month</th>\n",
       "      <th>Thousands of Passengers</th>\n",
       "    </tr>\n",
       "  </thead>\n",
       "  <tbody>\n",
       "    <tr>\n",
       "      <th>140</th>\n",
       "      <td>1960-09</td>\n",
       "      <td>508.0</td>\n",
       "    </tr>\n",
       "    <tr>\n",
       "      <th>141</th>\n",
       "      <td>1960-10</td>\n",
       "      <td>461.0</td>\n",
       "    </tr>\n",
       "    <tr>\n",
       "      <th>142</th>\n",
       "      <td>1960-11</td>\n",
       "      <td>390.0</td>\n",
       "    </tr>\n",
       "    <tr>\n",
       "      <th>143</th>\n",
       "      <td>1960-12</td>\n",
       "      <td>432.0</td>\n",
       "    </tr>\n",
       "    <tr>\n",
       "      <th>144</th>\n",
       "      <td>International airline passengers: monthly tota...</td>\n",
       "      <td>NaN</td>\n",
       "    </tr>\n",
       "  </tbody>\n",
       "</table>\n",
       "</div>"
      ],
      "text/plain": [
       "                                                 Month  Thousands of Passengers\n",
       "140                                            1960-09                    508.0\n",
       "141                                            1960-10                    461.0\n",
       "142                                            1960-11                    390.0\n",
       "143                                            1960-12                    432.0\n",
       "144  International airline passengers: monthly tota...                      NaN"
      ]
     },
     "execution_count": 27,
     "metadata": {},
     "output_type": "execute_result"
    }
   ],
   "source": [
    "df_airline.tail()"
   ]
  },
  {
   "cell_type": "code",
   "execution_count": 28,
   "id": "a0b4604c",
   "metadata": {},
   "outputs": [],
   "source": [
    "# Drop the i row containing NULL value\n",
    "df_airline.dropna(axis=0,inplace=True)"
   ]
  },
  {
   "cell_type": "code",
   "execution_count": 29,
   "id": "ff97efbc",
   "metadata": {},
   "outputs": [
    {
     "data": {
      "text/plain": [
       "Month                      0\n",
       "Thousands of Passengers    0\n",
       "dtype: int64"
      ]
     },
     "execution_count": 29,
     "metadata": {},
     "output_type": "execute_result"
    }
   ],
   "source": [
    "df_airline.isnull().sum()"
   ]
  },
  {
   "cell_type": "code",
   "execution_count": 30,
   "id": "8f4a9380",
   "metadata": {},
   "outputs": [],
   "source": [
    "# COnvert  the month column to date time type\n",
    "df_airline['Month']=pd.to_datetime(df_airline['Month'])"
   ]
  },
  {
   "cell_type": "code",
   "execution_count": 31,
   "id": "6a43907d",
   "metadata": {},
   "outputs": [
    {
     "name": "stdout",
     "output_type": "stream",
     "text": [
      "<class 'pandas.core.frame.DataFrame'>\n",
      "Index: 144 entries, 0 to 143\n",
      "Data columns (total 2 columns):\n",
      " #   Column                   Non-Null Count  Dtype         \n",
      "---  ------                   --------------  -----         \n",
      " 0   Month                    144 non-null    datetime64[ns]\n",
      " 1   Thousands of Passengers  144 non-null    float64       \n",
      "dtypes: datetime64[ns](1), float64(1)\n",
      "memory usage: 3.4 KB\n"
     ]
    }
   ],
   "source": [
    "df_airline.info()"
   ]
  },
  {
   "cell_type": "code",
   "execution_count": 32,
   "id": "5eb0422d",
   "metadata": {},
   "outputs": [],
   "source": [
    "# Set the month COlumn as Index\n",
    "df_airline.set_index('Month', inplace=True)"
   ]
  },
  {
   "cell_type": "code",
   "execution_count": 33,
   "id": "be30f2c1",
   "metadata": {},
   "outputs": [
    {
     "data": {
      "text/html": [
       "<div>\n",
       "<style scoped>\n",
       "    .dataframe tbody tr th:only-of-type {\n",
       "        vertical-align: middle;\n",
       "    }\n",
       "\n",
       "    .dataframe tbody tr th {\n",
       "        vertical-align: top;\n",
       "    }\n",
       "\n",
       "    .dataframe thead th {\n",
       "        text-align: right;\n",
       "    }\n",
       "</style>\n",
       "<table border=\"1\" class=\"dataframe\">\n",
       "  <thead>\n",
       "    <tr style=\"text-align: right;\">\n",
       "      <th></th>\n",
       "      <th>Thousands of Passengers</th>\n",
       "    </tr>\n",
       "    <tr>\n",
       "      <th>Month</th>\n",
       "      <th></th>\n",
       "    </tr>\n",
       "  </thead>\n",
       "  <tbody>\n",
       "    <tr>\n",
       "      <th>1949-01-01</th>\n",
       "      <td>112.0</td>\n",
       "    </tr>\n",
       "    <tr>\n",
       "      <th>1949-02-01</th>\n",
       "      <td>118.0</td>\n",
       "    </tr>\n",
       "    <tr>\n",
       "      <th>1949-03-01</th>\n",
       "      <td>132.0</td>\n",
       "    </tr>\n",
       "    <tr>\n",
       "      <th>1949-04-01</th>\n",
       "      <td>129.0</td>\n",
       "    </tr>\n",
       "    <tr>\n",
       "      <th>1949-05-01</th>\n",
       "      <td>121.0</td>\n",
       "    </tr>\n",
       "  </tbody>\n",
       "</table>\n",
       "</div>"
      ],
      "text/plain": [
       "            Thousands of Passengers\n",
       "Month                              \n",
       "1949-01-01                    112.0\n",
       "1949-02-01                    118.0\n",
       "1949-03-01                    132.0\n",
       "1949-04-01                    129.0\n",
       "1949-05-01                    121.0"
      ]
     },
     "execution_count": 33,
     "metadata": {},
     "output_type": "execute_result"
    }
   ],
   "source": [
    "df_airline.head()"
   ]
  },
  {
   "cell_type": "code",
   "execution_count": 34,
   "id": "6da96a27",
   "metadata": {},
   "outputs": [
    {
     "data": {
      "text/plain": [
       "<Axes: xlabel='Month'>"
      ]
     },
     "execution_count": 34,
     "metadata": {},
     "output_type": "execute_result"
    },
    {
     "data": {
      "image/png": "[encoded data removed]",
      "text/plain": [
       "<Figure size 640x480 with 1 Axes>"
      ]
     },
     "metadata": {},
     "output_type": "display_data"
    }
   ],
   "source": [
    "# Plotting the data\n",
    "df_airline.plot()"
   ]
  },
  {
   "cell_type": "markdown",
   "id": "9100edc0",
   "metadata": {},
   "source": [
    "## Dickey Fuller Test"
   ]
  },
  {
   "cell_type": "code",
   "execution_count": 35,
   "id": "5040d9f1",
   "metadata": {},
   "outputs": [],
   "source": [
    "from statsmodels.tsa.stattools import adfuller"
   ]
  },
  {
   "cell_type": "code",
   "execution_count": 36,
   "id": "e925f0a5",
   "metadata": {},
   "outputs": [],
   "source": [
    "# Create a function for Dickey Fuller Test\n",
    "\n",
    "def adf_test(series):\n",
    "    result = adfuller(series)\n",
    "    print('ADF Statistics: {}'.format(result[0]))\n",
    "    print('p-value: {}'.format(result[1]))\n",
    "    if result[1] <= 0.05:\n",
    "        print(\"Strong Evidence against the Null Hypothesis\")\n",
    "        print(\"Reject the Null Hypothesis\")\n",
    "        print(\"Data has no unit root and is stationary\")\n",
    "    else:\n",
    "        print(\"Week Evidence against the Null Hypothesis\")\n",
    "        print(\"Time series has a unit root\")\n",
    "        print(\"Indicating it is non-stationary\")"
   ]
  },
  {
   "cell_type": "code",
   "execution_count": 37,
   "id": "ec19a09b",
   "metadata": {},
   "outputs": [
    {
     "name": "stdout",
     "output_type": "stream",
     "text": [
      "ADF Statistics: 0.8153688792060547\n",
      "p-value: 0.9918802434376411\n",
      "Week Evidence against the Null Hypothesis\n",
      "Time series has a unit root\n",
      "Indicating it is non-stationary\n"
     ]
    }
   ],
   "source": [
    "adf_test(df_airline['Thousands of Passengers'])"
   ]
  },
  {
   "cell_type": "markdown",
   "id": "a7169373",
   "metadata": {},
   "source": [
    "## DIfferencing Techniques\n",
    "Used to make the data stationary"
   ]
  },
  {
   "cell_type": "code",
   "execution_count": 38,
   "id": "b2bb84a1",
   "metadata": {},
   "outputs": [],
   "source": [
    "df_airline['Passengers shift by 1'] = df_airline['Thousands of Passengers'].shift(1)"
   ]
  },
  {
   "cell_type": "code",
   "execution_count": 39,
   "id": "e1231f74",
   "metadata": {},
   "outputs": [],
   "source": [
    "df_airline['Passengers First Difference'] = df_airline['Thousands of Passengers'] - df_airline['Thousands of Passengers'].shift(1)\n",
    "                                                            "
   ]
  },
  {
   "cell_type": "code",
   "execution_count": 40,
   "id": "886a5d95",
   "metadata": {},
   "outputs": [
    {
     "data": {
      "text/html": [
       "<div>\n",
       "<style scoped>\n",
       "    .dataframe tbody tr th:only-of-type {\n",
       "        vertical-align: middle;\n",
       "    }\n",
       "\n",
       "    .dataframe tbody tr th {\n",
       "        vertical-align: top;\n",
       "    }\n",
       "\n",
       "    .dataframe thead th {\n",
       "        text-align: right;\n",
       "    }\n",
       "</style>\n",
       "<table border=\"1\" class=\"dataframe\">\n",
       "  <thead>\n",
       "    <tr style=\"text-align: right;\">\n",
       "      <th></th>\n",
       "      <th>Thousands of Passengers</th>\n",
       "      <th>Passengers shift by 1</th>\n",
       "      <th>Passengers First Difference</th>\n",
       "    </tr>\n",
       "    <tr>\n",
       "      <th>Month</th>\n",
       "      <th></th>\n",
       "      <th></th>\n",
       "      <th></th>\n",
       "    </tr>\n",
       "  </thead>\n",
       "  <tbody>\n",
       "    <tr>\n",
       "      <th>1949-01-01</th>\n",
       "      <td>112.0</td>\n",
       "      <td>NaN</td>\n",
       "      <td>NaN</td>\n",
       "    </tr>\n",
       "    <tr>\n",
       "      <th>1949-02-01</th>\n",
       "      <td>118.0</td>\n",
       "      <td>112.0</td>\n",
       "      <td>6.0</td>\n",
       "    </tr>\n",
       "    <tr>\n",
       "      <th>1949-03-01</th>\n",
       "      <td>132.0</td>\n",
       "      <td>118.0</td>\n",
       "      <td>14.0</td>\n",
       "    </tr>\n",
       "    <tr>\n",
       "      <th>1949-04-01</th>\n",
       "      <td>129.0</td>\n",
       "      <td>132.0</td>\n",
       "      <td>-3.0</td>\n",
       "    </tr>\n",
       "    <tr>\n",
       "      <th>1949-05-01</th>\n",
       "      <td>121.0</td>\n",
       "      <td>129.0</td>\n",
       "      <td>-8.0</td>\n",
       "    </tr>\n",
       "  </tbody>\n",
       "</table>\n",
       "</div>"
      ],
      "text/plain": [
       "            Thousands of Passengers  Passengers shift by 1  Passengers First Difference\n",
       "Month                                                                                  \n",
       "1949-01-01                    112.0                    NaN                          NaN\n",
       "1949-02-01                    118.0                  112.0                          6.0\n",
       "1949-03-01                    132.0                  118.0                         14.0\n",
       "1949-04-01                    129.0                  132.0                         -3.0\n",
       "1949-05-01                    121.0                  129.0                         -8.0"
      ]
     },
     "execution_count": 40,
     "metadata": {},
     "output_type": "execute_result"
    }
   ],
   "source": [
    "df_airline.head()"
   ]
  },
  {
   "cell_type": "code",
   "execution_count": 41,
   "id": "ae57c955",
   "metadata": {},
   "outputs": [
    {
     "name": "stdout",
     "output_type": "stream",
     "text": [
      "ADF Statistics: -2.829266824170004\n",
      "p-value: 0.05421329028382491\n",
      "Week Evidence against the Null Hypothesis\n",
      "Time series has a unit root\n",
      "Indicating it is non-stationary\n"
     ]
    }
   ],
   "source": [
    "# Perform the Dickey Fuller test again to check whether the differencing is stationary\n",
    "\n",
    "adf_test(df_airline['Passengers First Difference'].dropna())"
   ]
  },
  {
   "cell_type": "code",
   "execution_count": 42,
   "id": "cdedc700",
   "metadata": {},
   "outputs": [],
   "source": [
    "# Performing the 2nd differencing\n",
    "df_airline['Passengers shift by 2'] = df_airline['Thousands of Passengers'].shift(2)"
   ]
  },
  {
   "cell_type": "code",
   "execution_count": 71,
   "id": "af5fcdf8",
   "metadata": {},
   "outputs": [],
   "source": [
    "df_airline['Passengers second Difference'] = df_airline['Thousands of Passengers'] - df_airline['Thousands of Passengers'].shift(2)\n",
    "                                                            "
   ]
  },
  {
   "cell_type": "code",
   "execution_count": 45,
   "id": "a1a709df",
   "metadata": {},
   "outputs": [
    {
     "data": {
      "text/html": [
       "<div>\n",
       "<style scoped>\n",
       "    .dataframe tbody tr th:only-of-type {\n",
       "        vertical-align: middle;\n",
       "    }\n",
       "\n",
       "    .dataframe tbody tr th {\n",
       "        vertical-align: top;\n",
       "    }\n",
       "\n",
       "    .dataframe thead th {\n",
       "        text-align: right;\n",
       "    }\n",
       "</style>\n",
       "<table border=\"1\" class=\"dataframe\">\n",
       "  <thead>\n",
       "    <tr style=\"text-align: right;\">\n",
       "      <th></th>\n",
       "      <th>Thousands of Passengers</th>\n",
       "      <th>Passengers shift by 1</th>\n",
       "      <th>Passengers First Difference</th>\n",
       "      <th>Passengers shift by 2</th>\n",
       "      <th>Passengers second Difference</th>\n",
       "    </tr>\n",
       "    <tr>\n",
       "      <th>Month</th>\n",
       "      <th></th>\n",
       "      <th></th>\n",
       "      <th></th>\n",
       "      <th></th>\n",
       "      <th></th>\n",
       "    </tr>\n",
       "  </thead>\n",
       "  <tbody>\n",
       "    <tr>\n",
       "      <th>1949-01-01</th>\n",
       "      <td>112.0</td>\n",
       "      <td>NaN</td>\n",
       "      <td>NaN</td>\n",
       "      <td>NaN</td>\n",
       "      <td>NaN</td>\n",
       "    </tr>\n",
       "    <tr>\n",
       "      <th>1949-02-01</th>\n",
       "      <td>118.0</td>\n",
       "      <td>112.0</td>\n",
       "      <td>6.0</td>\n",
       "      <td>NaN</td>\n",
       "      <td>NaN</td>\n",
       "    </tr>\n",
       "    <tr>\n",
       "      <th>1949-03-01</th>\n",
       "      <td>132.0</td>\n",
       "      <td>118.0</td>\n",
       "      <td>14.0</td>\n",
       "      <td>112.0</td>\n",
       "      <td>20.0</td>\n",
       "    </tr>\n",
       "    <tr>\n",
       "      <th>1949-04-01</th>\n",
       "      <td>129.0</td>\n",
       "      <td>132.0</td>\n",
       "      <td>-3.0</td>\n",
       "      <td>118.0</td>\n",
       "      <td>11.0</td>\n",
       "    </tr>\n",
       "    <tr>\n",
       "      <th>1949-05-01</th>\n",
       "      <td>121.0</td>\n",
       "      <td>129.0</td>\n",
       "      <td>-8.0</td>\n",
       "      <td>132.0</td>\n",
       "      <td>-11.0</td>\n",
       "    </tr>\n",
       "  </tbody>\n",
       "</table>\n",
       "</div>"
      ],
      "text/plain": [
       "            Thousands of Passengers  Passengers shift by 1  ...  Passengers shift by 2  Passengers second Difference\n",
       "Month                                                       ...                                                     \n",
       "1949-01-01                    112.0                    NaN  ...                    NaN                           NaN\n",
       "1949-02-01                    118.0                  112.0  ...                    NaN                           NaN\n",
       "1949-03-01                    132.0                  118.0  ...                  112.0                          20.0\n",
       "1949-04-01                    129.0                  132.0  ...                  118.0                          11.0\n",
       "1949-05-01                    121.0                  129.0  ...                  132.0                         -11.0\n",
       "\n",
       "[5 rows x 5 columns]"
      ]
     },
     "execution_count": 45,
     "metadata": {},
     "output_type": "execute_result"
    }
   ],
   "source": [
    "df_airline.head()"
   ]
  },
  {
   "cell_type": "code",
   "execution_count": 72,
   "id": "9c0579dc",
   "metadata": {},
   "outputs": [
    {
     "name": "stdout",
     "output_type": "stream",
     "text": [
      "ADF Statistics: -2.9616951355554306\n",
      "p-value: 0.03862975767698775\n",
      "Strong Evidence against the Null Hypothesis\n",
      "Reject the Null Hypothesis\n",
      "Data has no unit root and is stationary\n"
     ]
    }
   ],
   "source": [
    "# Perform the Dickey Fuller test again to check whether the differencing is stationary\n",
    "\n",
    "adf_test(df_airline['Passengers second Difference'].dropna())"
   ]
  },
  {
   "cell_type": "code",
   "execution_count": 47,
   "id": "5fbfa186",
   "metadata": {},
   "outputs": [
    {
     "data": {
      "text/html": [
       "<div>\n",
       "<style scoped>\n",
       "    .dataframe tbody tr th:only-of-type {\n",
       "        vertical-align: middle;\n",
       "    }\n",
       "\n",
       "    .dataframe tbody tr th {\n",
       "        vertical-align: top;\n",
       "    }\n",
       "\n",
       "    .dataframe thead th {\n",
       "        text-align: right;\n",
       "    }\n",
       "</style>\n",
       "<table border=\"1\" class=\"dataframe\">\n",
       "  <thead>\n",
       "    <tr style=\"text-align: right;\">\n",
       "      <th></th>\n",
       "      <th>Thousands of Passengers</th>\n",
       "      <th>Passengers shift by 1</th>\n",
       "      <th>Passengers First Difference</th>\n",
       "      <th>Passengers shift by 2</th>\n",
       "      <th>Passengers second Difference</th>\n",
       "      <th>Passengers shift by 12</th>\n",
       "      <th>Passengers 12 Difference</th>\n",
       "    </tr>\n",
       "    <tr>\n",
       "      <th>Month</th>\n",
       "      <th></th>\n",
       "      <th></th>\n",
       "      <th></th>\n",
       "      <th></th>\n",
       "      <th></th>\n",
       "      <th></th>\n",
       "      <th></th>\n",
       "    </tr>\n",
       "  </thead>\n",
       "  <tbody>\n",
       "    <tr>\n",
       "      <th>1949-01-01</th>\n",
       "      <td>112.0</td>\n",
       "      <td>NaN</td>\n",
       "      <td>NaN</td>\n",
       "      <td>NaN</td>\n",
       "      <td>NaN</td>\n",
       "      <td>NaN</td>\n",
       "      <td>NaN</td>\n",
       "    </tr>\n",
       "    <tr>\n",
       "      <th>1949-02-01</th>\n",
       "      <td>118.0</td>\n",
       "      <td>112.0</td>\n",
       "      <td>6.0</td>\n",
       "      <td>NaN</td>\n",
       "      <td>NaN</td>\n",
       "      <td>NaN</td>\n",
       "      <td>NaN</td>\n",
       "    </tr>\n",
       "    <tr>\n",
       "      <th>1949-03-01</th>\n",
       "      <td>132.0</td>\n",
       "      <td>118.0</td>\n",
       "      <td>14.0</td>\n",
       "      <td>112.0</td>\n",
       "      <td>20.0</td>\n",
       "      <td>NaN</td>\n",
       "      <td>NaN</td>\n",
       "    </tr>\n",
       "    <tr>\n",
       "      <th>1949-04-01</th>\n",
       "      <td>129.0</td>\n",
       "      <td>132.0</td>\n",
       "      <td>-3.0</td>\n",
       "      <td>118.0</td>\n",
       "      <td>11.0</td>\n",
       "      <td>NaN</td>\n",
       "      <td>NaN</td>\n",
       "    </tr>\n",
       "    <tr>\n",
       "      <th>1949-05-01</th>\n",
       "      <td>121.0</td>\n",
       "      <td>129.0</td>\n",
       "      <td>-8.0</td>\n",
       "      <td>132.0</td>\n",
       "      <td>-11.0</td>\n",
       "      <td>NaN</td>\n",
       "      <td>NaN</td>\n",
       "    </tr>\n",
       "  </tbody>\n",
       "</table>\n",
       "</div>"
      ],
      "text/plain": [
       "            Thousands of Passengers  Passengers shift by 1  ...  Passengers shift by 12  Passengers 12 Difference\n",
       "Month                                                       ...                                                  \n",
       "1949-01-01                    112.0                    NaN  ...                     NaN                       NaN\n",
       "1949-02-01                    118.0                  112.0  ...                     NaN                       NaN\n",
       "1949-03-01                    132.0                  118.0  ...                     NaN                       NaN\n",
       "1949-04-01                    129.0                  132.0  ...                     NaN                       NaN\n",
       "1949-05-01                    121.0                  129.0  ...                     NaN                       NaN\n",
       "\n",
       "[5 rows x 7 columns]"
      ]
     },
     "execution_count": 47,
     "metadata": {},
     "output_type": "execute_result"
    }
   ],
   "source": [
    "# Get the seasonal differencing that is of 12 months\n",
    "df_airline['Passengers shift by 12'] = df_airline['Thousands of Passengers'].shift(12)\n",
    "\n",
    "\n",
    "df_airline['Passengers 12 Difference'] = df_airline['Thousands of Passengers'] - df_airline['Passengers shift by 12']\n",
    "\n",
    "df_airline.head()\n",
    "                                                            "
   ]
  },
  {
   "cell_type": "code",
   "execution_count": 48,
   "id": "85edb6a6",
   "metadata": {},
   "outputs": [
    {
     "name": "stdout",
     "output_type": "stream",
     "text": [
      "ADF Statistics: -3.3830207264924814\n",
      "p-value: 0.011551493085514952\n",
      "Strong Evidence against the Null Hypothesis\n",
      "Reject the Null Hypothesis\n",
      "Data has no unit root and is stationary\n"
     ]
    }
   ],
   "source": [
    "# Perform the Dickey Fuller test again to check whether the differencing is stationary\n",
    "\n",
    "adf_test(df_airline['Passengers 12 Difference'].dropna())"
   ]
  },
  {
   "cell_type": "markdown",
   "id": "4ede501c",
   "metadata": {},
   "source": [
    "## ACF(Auto Corelation) and PACF(Partial Auto Correlation) plot"
   ]
  },
  {
   "cell_type": "code",
   "execution_count": 49,
   "id": "01f4201b",
   "metadata": {},
   "outputs": [],
   "source": [
    "from statsmodels.graphics.tsaplots import plot_acf, plot_pacf"
   ]
  },
  {
   "cell_type": "code",
   "execution_count": 53,
   "id": "f76139eb",
   "metadata": {},
   "outputs": [
    {
     "data": {
      "image/png": "[encoded data removed]",
      "text/plain": [
       "<Figure size 640x480 with 1 Axes>"
      ]
     },
     "metadata": {},
     "output_type": "display_data"
    }
   ],
   "source": [
    "acf2 = plot_acf(df_airline[\"Passengers second Difference\"].dropna())"
   ]
  },
  {
   "cell_type": "markdown",
   "id": "90543a36",
   "metadata": {},
   "source": [
    " We look for the value for variable 'q' which is the number of points which outside the upper and lower bound of acf plot. So for the upper plot the value of 'q = 8' and we can see clearly the data is Seasonal."
   ]
  },
  {
   "cell_type": "code",
   "execution_count": 54,
   "id": "9e20e2f5",
   "metadata": {},
   "outputs": [
    {
     "data": {
      "image/png": "[encoded data removed]",
      "text/plain": [
       "<Figure size 640x480 with 1 Axes>"
      ]
     },
     "metadata": {},
     "output_type": "display_data"
    }
   ],
   "source": [
    "acf12 = plot_acf(df_airline[\"Passengers 12 Difference\"].dropna())"
   ]
  },
  {
   "cell_type": "markdown",
   "id": "02499d2d",
   "metadata": {},
   "source": [
    "Here the value for variable 'q = 4'"
   ]
  },
  {
   "cell_type": "markdown",
   "id": "6004cdef",
   "metadata": {},
   "source": [
    "With ACF we are performing Moving Average"
   ]
  },
  {
   "cell_type": "code",
   "execution_count": 55,
   "id": "76673fef",
   "metadata": {},
   "outputs": [
    {
     "data": {
      "image/png": "[encoded data removed]",
      "text/plain": [
       "<Figure size 640x480 with 1 Axes>"
      ]
     },
     "metadata": {},
     "output_type": "display_data"
    }
   ],
   "source": [
    "# PACF plot\n",
    "pacf2 = plot_pacf(df_airline[\"Passengers second Difference\"].dropna())"
   ]
  },
  {
   "cell_type": "code",
   "execution_count": 56,
   "id": "3e801a13",
   "metadata": {},
   "outputs": [
    {
     "data": {
      "image/png": "[encoded data removed]",
      "text/plain": [
       "<Figure size 640x480 with 1 Axes>"
      ]
     },
     "metadata": {},
     "output_type": "display_data"
    }
   ],
   "source": [
    "pacf12 = plot_pacf(df_airline[\"Passengers 12 Difference\"].dropna())"
   ]
  },
  {
   "cell_type": "markdown",
   "id": "52a21dc1",
   "metadata": {},
   "source": [
    "We can see that with 12 month differencing there is no seasonality"
   ]
  },
  {
   "cell_type": "markdown",
   "id": "dacaca24",
   "metadata": {},
   "source": [
    "With PACF we are performing Auto Regression and we find the value of variable 'P' which is similar to variable 'q' in ACF, the number of points beyond the upper and lower limit. "
   ]
  },
  {
   "cell_type": "markdown",
   "id": "9d73b396",
   "metadata": {},
   "source": [
    "## Splitting the data into train and test"
   ]
  },
  {
   "cell_type": "code",
   "execution_count": 60,
   "id": "9c8c7042",
   "metadata": {},
   "outputs": [
    {
     "data": {
      "text/plain": [
       "Index(['Thousands of Passengers', 'Passengers shift by 1',\n",
       "       'Passengers First Difference', 'Passengers shift by 2',\n",
       "       'Passengers second Difference', 'Passengers shift by 12',\n",
       "       'Passengers 12 Difference'],\n",
       "      dtype='object')"
      ]
     },
     "execution_count": 60,
     "metadata": {},
     "output_type": "execute_result"
    }
   ],
   "source": [
    "df_airline.columns"
   ]
  },
  {
   "cell_type": "code",
   "execution_count": 61,
   "id": "0909884c",
   "metadata": {},
   "outputs": [
    {
     "data": {
      "text/html": [
       "<div>\n",
       "<style scoped>\n",
       "    .dataframe tbody tr th:only-of-type {\n",
       "        vertical-align: middle;\n",
       "    }\n",
       "\n",
       "    .dataframe tbody tr th {\n",
       "        vertical-align: top;\n",
       "    }\n",
       "\n",
       "    .dataframe thead th {\n",
       "        text-align: right;\n",
       "    }\n",
       "</style>\n",
       "<table border=\"1\" class=\"dataframe\">\n",
       "  <thead>\n",
       "    <tr style=\"text-align: right;\">\n",
       "      <th></th>\n",
       "      <th>Thousands of Passengers</th>\n",
       "      <th>Passengers First Difference</th>\n",
       "      <th>Passengers second Difference</th>\n",
       "      <th>Passengers 12 Difference</th>\n",
       "    </tr>\n",
       "    <tr>\n",
       "      <th>Month</th>\n",
       "      <th></th>\n",
       "      <th></th>\n",
       "      <th></th>\n",
       "      <th></th>\n",
       "    </tr>\n",
       "  </thead>\n",
       "  <tbody>\n",
       "    <tr>\n",
       "      <th>1949-01-01</th>\n",
       "      <td>112.0</td>\n",
       "      <td>NaN</td>\n",
       "      <td>NaN</td>\n",
       "      <td>NaN</td>\n",
       "    </tr>\n",
       "    <tr>\n",
       "      <th>1949-02-01</th>\n",
       "      <td>118.0</td>\n",
       "      <td>6.0</td>\n",
       "      <td>NaN</td>\n",
       "      <td>NaN</td>\n",
       "    </tr>\n",
       "    <tr>\n",
       "      <th>1949-03-01</th>\n",
       "      <td>132.0</td>\n",
       "      <td>14.0</td>\n",
       "      <td>20.0</td>\n",
       "      <td>NaN</td>\n",
       "    </tr>\n",
       "    <tr>\n",
       "      <th>1949-04-01</th>\n",
       "      <td>129.0</td>\n",
       "      <td>-3.0</td>\n",
       "      <td>11.0</td>\n",
       "      <td>NaN</td>\n",
       "    </tr>\n",
       "    <tr>\n",
       "      <th>1949-05-01</th>\n",
       "      <td>121.0</td>\n",
       "      <td>-8.0</td>\n",
       "      <td>-11.0</td>\n",
       "      <td>NaN</td>\n",
       "    </tr>\n",
       "    <tr>\n",
       "      <th>...</th>\n",
       "      <td>...</td>\n",
       "      <td>...</td>\n",
       "      <td>...</td>\n",
       "      <td>...</td>\n",
       "    </tr>\n",
       "    <tr>\n",
       "      <th>1960-08-01</th>\n",
       "      <td>606.0</td>\n",
       "      <td>-16.0</td>\n",
       "      <td>71.0</td>\n",
       "      <td>47.0</td>\n",
       "    </tr>\n",
       "    <tr>\n",
       "      <th>1960-09-01</th>\n",
       "      <td>508.0</td>\n",
       "      <td>-98.0</td>\n",
       "      <td>-114.0</td>\n",
       "      <td>45.0</td>\n",
       "    </tr>\n",
       "    <tr>\n",
       "      <th>1960-10-01</th>\n",
       "      <td>461.0</td>\n",
       "      <td>-47.0</td>\n",
       "      <td>-145.0</td>\n",
       "      <td>54.0</td>\n",
       "    </tr>\n",
       "    <tr>\n",
       "      <th>1960-11-01</th>\n",
       "      <td>390.0</td>\n",
       "      <td>-71.0</td>\n",
       "      <td>-118.0</td>\n",
       "      <td>28.0</td>\n",
       "    </tr>\n",
       "    <tr>\n",
       "      <th>1960-12-01</th>\n",
       "      <td>432.0</td>\n",
       "      <td>42.0</td>\n",
       "      <td>-29.0</td>\n",
       "      <td>27.0</td>\n",
       "    </tr>\n",
       "  </tbody>\n",
       "</table>\n",
       "<p>144 rows × 4 columns</p>\n",
       "</div>"
      ],
      "text/plain": [
       "            Thousands of Passengers  ...  Passengers 12 Difference\n",
       "Month                                ...                          \n",
       "1949-01-01                    112.0  ...                       NaN\n",
       "1949-02-01                    118.0  ...                       NaN\n",
       "1949-03-01                    132.0  ...                       NaN\n",
       "1949-04-01                    129.0  ...                       NaN\n",
       "1949-05-01                    121.0  ...                       NaN\n",
       "...                             ...  ...                       ...\n",
       "1960-08-01                    606.0  ...                      47.0\n",
       "1960-09-01                    508.0  ...                      45.0\n",
       "1960-10-01                    461.0  ...                      54.0\n",
       "1960-11-01                    390.0  ...                      28.0\n",
       "1960-12-01                    432.0  ...                      27.0\n",
       "\n",
       "[144 rows x 4 columns]"
      ]
     },
     "execution_count": 61,
     "metadata": {},
     "output_type": "execute_result"
    }
   ],
   "source": [
    "# Removing the unnecessary columns from the dataframe\n",
    "df = df_airline.drop([\"Passengers shift by 1\", \"Passengers shift by 2\",\n",
    "                     \"Passengers shift by 12\"], axis = 1)\n",
    "\n",
    "df"
   ]
  },
  {
   "cell_type": "code",
   "execution_count": 62,
   "id": "30d5f5f7",
   "metadata": {},
   "outputs": [],
   "source": [
    "from datetime import datetime, timedelta\n",
    "train_dataset_end = datetime(1955,12,1)\n",
    "test_dataset_end = datetime(1960, 12,1)\n"
   ]
  },
  {
   "cell_type": "code",
   "execution_count": 64,
   "id": "a297281c",
   "metadata": {},
   "outputs": [],
   "source": [
    "train_data = df[:train_dataset_end]\n",
    "test_data = df[train_dataset_end+timedelta(days = 1): test_dataset_end]"
   ]
  },
  {
   "cell_type": "code",
   "execution_count": 70,
   "id": "d45909eb",
   "metadata": {},
   "outputs": [
    {
     "data": {
      "text/html": [
       "<div>\n",
       "<style scoped>\n",
       "    .dataframe tbody tr th:only-of-type {\n",
       "        vertical-align: middle;\n",
       "    }\n",
       "\n",
       "    .dataframe tbody tr th {\n",
       "        vertical-align: top;\n",
       "    }\n",
       "\n",
       "    .dataframe thead th {\n",
       "        text-align: right;\n",
       "    }\n",
       "</style>\n",
       "<table border=\"1\" class=\"dataframe\">\n",
       "  <thead>\n",
       "    <tr style=\"text-align: right;\">\n",
       "      <th></th>\n",
       "      <th>Thousands of Passengers</th>\n",
       "      <th>Passengers First Difference</th>\n",
       "      <th>Passengers second Difference</th>\n",
       "      <th>Passengers 12 Difference</th>\n",
       "    </tr>\n",
       "    <tr>\n",
       "      <th>Month</th>\n",
       "      <th></th>\n",
       "      <th></th>\n",
       "      <th></th>\n",
       "      <th></th>\n",
       "    </tr>\n",
       "  </thead>\n",
       "  <tbody>\n",
       "    <tr>\n",
       "      <th>1956-01-01</th>\n",
       "      <td>284.0</td>\n",
       "      <td>6.0</td>\n",
       "      <td>47.0</td>\n",
       "      <td>42.0</td>\n",
       "    </tr>\n",
       "    <tr>\n",
       "      <th>1956-02-01</th>\n",
       "      <td>277.0</td>\n",
       "      <td>-7.0</td>\n",
       "      <td>-1.0</td>\n",
       "      <td>44.0</td>\n",
       "    </tr>\n",
       "    <tr>\n",
       "      <th>1956-03-01</th>\n",
       "      <td>317.0</td>\n",
       "      <td>40.0</td>\n",
       "      <td>33.0</td>\n",
       "      <td>50.0</td>\n",
       "    </tr>\n",
       "    <tr>\n",
       "      <th>1956-04-01</th>\n",
       "      <td>313.0</td>\n",
       "      <td>-4.0</td>\n",
       "      <td>36.0</td>\n",
       "      <td>44.0</td>\n",
       "    </tr>\n",
       "    <tr>\n",
       "      <th>1956-05-01</th>\n",
       "      <td>318.0</td>\n",
       "      <td>5.0</td>\n",
       "      <td>1.0</td>\n",
       "      <td>48.0</td>\n",
       "    </tr>\n",
       "    <tr>\n",
       "      <th>1956-06-01</th>\n",
       "      <td>374.0</td>\n",
       "      <td>56.0</td>\n",
       "      <td>61.0</td>\n",
       "      <td>59.0</td>\n",
       "    </tr>\n",
       "    <tr>\n",
       "      <th>1956-07-01</th>\n",
       "      <td>413.0</td>\n",
       "      <td>39.0</td>\n",
       "      <td>95.0</td>\n",
       "      <td>49.0</td>\n",
       "    </tr>\n",
       "    <tr>\n",
       "      <th>1956-08-01</th>\n",
       "      <td>405.0</td>\n",
       "      <td>-8.0</td>\n",
       "      <td>31.0</td>\n",
       "      <td>58.0</td>\n",
       "    </tr>\n",
       "    <tr>\n",
       "      <th>1956-09-01</th>\n",
       "      <td>355.0</td>\n",
       "      <td>-50.0</td>\n",
       "      <td>-58.0</td>\n",
       "      <td>43.0</td>\n",
       "    </tr>\n",
       "    <tr>\n",
       "      <th>1956-10-01</th>\n",
       "      <td>306.0</td>\n",
       "      <td>-49.0</td>\n",
       "      <td>-99.0</td>\n",
       "      <td>32.0</td>\n",
       "    </tr>\n",
       "    <tr>\n",
       "      <th>1956-11-01</th>\n",
       "      <td>271.0</td>\n",
       "      <td>-35.0</td>\n",
       "      <td>-84.0</td>\n",
       "      <td>34.0</td>\n",
       "    </tr>\n",
       "    <tr>\n",
       "      <th>1956-12-01</th>\n",
       "      <td>306.0</td>\n",
       "      <td>35.0</td>\n",
       "      <td>0.0</td>\n",
       "      <td>28.0</td>\n",
       "    </tr>\n",
       "    <tr>\n",
       "      <th>1957-01-01</th>\n",
       "      <td>315.0</td>\n",
       "      <td>9.0</td>\n",
       "      <td>44.0</td>\n",
       "      <td>31.0</td>\n",
       "    </tr>\n",
       "    <tr>\n",
       "      <th>1957-02-01</th>\n",
       "      <td>301.0</td>\n",
       "      <td>-14.0</td>\n",
       "      <td>-5.0</td>\n",
       "      <td>24.0</td>\n",
       "    </tr>\n",
       "    <tr>\n",
       "      <th>1957-03-01</th>\n",
       "      <td>356.0</td>\n",
       "      <td>55.0</td>\n",
       "      <td>41.0</td>\n",
       "      <td>39.0</td>\n",
       "    </tr>\n",
       "    <tr>\n",
       "      <th>1957-04-01</th>\n",
       "      <td>348.0</td>\n",
       "      <td>-8.0</td>\n",
       "      <td>47.0</td>\n",
       "      <td>35.0</td>\n",
       "    </tr>\n",
       "    <tr>\n",
       "      <th>1957-05-01</th>\n",
       "      <td>355.0</td>\n",
       "      <td>7.0</td>\n",
       "      <td>-1.0</td>\n",
       "      <td>37.0</td>\n",
       "    </tr>\n",
       "    <tr>\n",
       "      <th>1957-06-01</th>\n",
       "      <td>422.0</td>\n",
       "      <td>67.0</td>\n",
       "      <td>74.0</td>\n",
       "      <td>48.0</td>\n",
       "    </tr>\n",
       "    <tr>\n",
       "      <th>1957-07-01</th>\n",
       "      <td>465.0</td>\n",
       "      <td>43.0</td>\n",
       "      <td>110.0</td>\n",
       "      <td>52.0</td>\n",
       "    </tr>\n",
       "    <tr>\n",
       "      <th>1957-08-01</th>\n",
       "      <td>467.0</td>\n",
       "      <td>2.0</td>\n",
       "      <td>45.0</td>\n",
       "      <td>62.0</td>\n",
       "    </tr>\n",
       "    <tr>\n",
       "      <th>1957-09-01</th>\n",
       "      <td>404.0</td>\n",
       "      <td>-63.0</td>\n",
       "      <td>-61.0</td>\n",
       "      <td>49.0</td>\n",
       "    </tr>\n",
       "    <tr>\n",
       "      <th>1957-10-01</th>\n",
       "      <td>347.0</td>\n",
       "      <td>-57.0</td>\n",
       "      <td>-120.0</td>\n",
       "      <td>41.0</td>\n",
       "    </tr>\n",
       "    <tr>\n",
       "      <th>1957-11-01</th>\n",
       "      <td>305.0</td>\n",
       "      <td>-42.0</td>\n",
       "      <td>-99.0</td>\n",
       "      <td>34.0</td>\n",
       "    </tr>\n",
       "    <tr>\n",
       "      <th>1957-12-01</th>\n",
       "      <td>336.0</td>\n",
       "      <td>31.0</td>\n",
       "      <td>-11.0</td>\n",
       "      <td>30.0</td>\n",
       "    </tr>\n",
       "    <tr>\n",
       "      <th>1958-01-01</th>\n",
       "      <td>340.0</td>\n",
       "      <td>4.0</td>\n",
       "      <td>35.0</td>\n",
       "      <td>25.0</td>\n",
       "    </tr>\n",
       "    <tr>\n",
       "      <th>1958-02-01</th>\n",
       "      <td>318.0</td>\n",
       "      <td>-22.0</td>\n",
       "      <td>-18.0</td>\n",
       "      <td>17.0</td>\n",
       "    </tr>\n",
       "    <tr>\n",
       "      <th>1958-03-01</th>\n",
       "      <td>362.0</td>\n",
       "      <td>44.0</td>\n",
       "      <td>22.0</td>\n",
       "      <td>6.0</td>\n",
       "    </tr>\n",
       "    <tr>\n",
       "      <th>1958-04-01</th>\n",
       "      <td>348.0</td>\n",
       "      <td>-14.0</td>\n",
       "      <td>30.0</td>\n",
       "      <td>0.0</td>\n",
       "    </tr>\n",
       "    <tr>\n",
       "      <th>1958-05-01</th>\n",
       "      <td>363.0</td>\n",
       "      <td>15.0</td>\n",
       "      <td>1.0</td>\n",
       "      <td>8.0</td>\n",
       "    </tr>\n",
       "    <tr>\n",
       "      <th>1958-06-01</th>\n",
       "      <td>435.0</td>\n",
       "      <td>72.0</td>\n",
       "      <td>87.0</td>\n",
       "      <td>13.0</td>\n",
       "    </tr>\n",
       "    <tr>\n",
       "      <th>1958-07-01</th>\n",
       "      <td>491.0</td>\n",
       "      <td>56.0</td>\n",
       "      <td>128.0</td>\n",
       "      <td>26.0</td>\n",
       "    </tr>\n",
       "    <tr>\n",
       "      <th>1958-08-01</th>\n",
       "      <td>505.0</td>\n",
       "      <td>14.0</td>\n",
       "      <td>70.0</td>\n",
       "      <td>38.0</td>\n",
       "    </tr>\n",
       "    <tr>\n",
       "      <th>1958-09-01</th>\n",
       "      <td>404.0</td>\n",
       "      <td>-101.0</td>\n",
       "      <td>-87.0</td>\n",
       "      <td>0.0</td>\n",
       "    </tr>\n",
       "    <tr>\n",
       "      <th>1958-10-01</th>\n",
       "      <td>359.0</td>\n",
       "      <td>-45.0</td>\n",
       "      <td>-146.0</td>\n",
       "      <td>12.0</td>\n",
       "    </tr>\n",
       "    <tr>\n",
       "      <th>1958-11-01</th>\n",
       "      <td>310.0</td>\n",
       "      <td>-49.0</td>\n",
       "      <td>-94.0</td>\n",
       "      <td>5.0</td>\n",
       "    </tr>\n",
       "    <tr>\n",
       "      <th>1958-12-01</th>\n",
       "      <td>337.0</td>\n",
       "      <td>27.0</td>\n",
       "      <td>-22.0</td>\n",
       "      <td>1.0</td>\n",
       "    </tr>\n",
       "    <tr>\n",
       "      <th>1959-01-01</th>\n",
       "      <td>360.0</td>\n",
       "      <td>23.0</td>\n",
       "      <td>50.0</td>\n",
       "      <td>20.0</td>\n",
       "    </tr>\n",
       "    <tr>\n",
       "      <th>1959-02-01</th>\n",
       "      <td>342.0</td>\n",
       "      <td>-18.0</td>\n",
       "      <td>5.0</td>\n",
       "      <td>24.0</td>\n",
       "    </tr>\n",
       "    <tr>\n",
       "      <th>1959-03-01</th>\n",
       "      <td>406.0</td>\n",
       "      <td>64.0</td>\n",
       "      <td>46.0</td>\n",
       "      <td>44.0</td>\n",
       "    </tr>\n",
       "    <tr>\n",
       "      <th>1959-04-01</th>\n",
       "      <td>396.0</td>\n",
       "      <td>-10.0</td>\n",
       "      <td>54.0</td>\n",
       "      <td>48.0</td>\n",
       "    </tr>\n",
       "    <tr>\n",
       "      <th>1959-05-01</th>\n",
       "      <td>420.0</td>\n",
       "      <td>24.0</td>\n",
       "      <td>14.0</td>\n",
       "      <td>57.0</td>\n",
       "    </tr>\n",
       "    <tr>\n",
       "      <th>1959-06-01</th>\n",
       "      <td>472.0</td>\n",
       "      <td>52.0</td>\n",
       "      <td>76.0</td>\n",
       "      <td>37.0</td>\n",
       "    </tr>\n",
       "    <tr>\n",
       "      <th>1959-07-01</th>\n",
       "      <td>548.0</td>\n",
       "      <td>76.0</td>\n",
       "      <td>128.0</td>\n",
       "      <td>57.0</td>\n",
       "    </tr>\n",
       "    <tr>\n",
       "      <th>1959-08-01</th>\n",
       "      <td>559.0</td>\n",
       "      <td>11.0</td>\n",
       "      <td>87.0</td>\n",
       "      <td>54.0</td>\n",
       "    </tr>\n",
       "    <tr>\n",
       "      <th>1959-09-01</th>\n",
       "      <td>463.0</td>\n",
       "      <td>-96.0</td>\n",
       "      <td>-85.0</td>\n",
       "      <td>59.0</td>\n",
       "    </tr>\n",
       "    <tr>\n",
       "      <th>1959-10-01</th>\n",
       "      <td>407.0</td>\n",
       "      <td>-56.0</td>\n",
       "      <td>-152.0</td>\n",
       "      <td>48.0</td>\n",
       "    </tr>\n",
       "    <tr>\n",
       "      <th>1959-11-01</th>\n",
       "      <td>362.0</td>\n",
       "      <td>-45.0</td>\n",
       "      <td>-101.0</td>\n",
       "      <td>52.0</td>\n",
       "    </tr>\n",
       "    <tr>\n",
       "      <th>1959-12-01</th>\n",
       "      <td>405.0</td>\n",
       "      <td>43.0</td>\n",
       "      <td>-2.0</td>\n",
       "      <td>68.0</td>\n",
       "    </tr>\n",
       "    <tr>\n",
       "      <th>1960-01-01</th>\n",
       "      <td>417.0</td>\n",
       "      <td>12.0</td>\n",
       "      <td>55.0</td>\n",
       "      <td>57.0</td>\n",
       "    </tr>\n",
       "    <tr>\n",
       "      <th>1960-02-01</th>\n",
       "      <td>391.0</td>\n",
       "      <td>-26.0</td>\n",
       "      <td>-14.0</td>\n",
       "      <td>49.0</td>\n",
       "    </tr>\n",
       "    <tr>\n",
       "      <th>1960-03-01</th>\n",
       "      <td>419.0</td>\n",
       "      <td>28.0</td>\n",
       "      <td>2.0</td>\n",
       "      <td>13.0</td>\n",
       "    </tr>\n",
       "    <tr>\n",
       "      <th>1960-04-01</th>\n",
       "      <td>461.0</td>\n",
       "      <td>42.0</td>\n",
       "      <td>70.0</td>\n",
       "      <td>65.0</td>\n",
       "    </tr>\n",
       "    <tr>\n",
       "      <th>1960-05-01</th>\n",
       "      <td>472.0</td>\n",
       "      <td>11.0</td>\n",
       "      <td>53.0</td>\n",
       "      <td>52.0</td>\n",
       "    </tr>\n",
       "    <tr>\n",
       "      <th>1960-06-01</th>\n",
       "      <td>535.0</td>\n",
       "      <td>63.0</td>\n",
       "      <td>74.0</td>\n",
       "      <td>63.0</td>\n",
       "    </tr>\n",
       "    <tr>\n",
       "      <th>1960-07-01</th>\n",
       "      <td>622.0</td>\n",
       "      <td>87.0</td>\n",
       "      <td>150.0</td>\n",
       "      <td>74.0</td>\n",
       "    </tr>\n",
       "    <tr>\n",
       "      <th>1960-08-01</th>\n",
       "      <td>606.0</td>\n",
       "      <td>-16.0</td>\n",
       "      <td>71.0</td>\n",
       "      <td>47.0</td>\n",
       "    </tr>\n",
       "    <tr>\n",
       "      <th>1960-09-01</th>\n",
       "      <td>508.0</td>\n",
       "      <td>-98.0</td>\n",
       "      <td>-114.0</td>\n",
       "      <td>45.0</td>\n",
       "    </tr>\n",
       "    <tr>\n",
       "      <th>1960-10-01</th>\n",
       "      <td>461.0</td>\n",
       "      <td>-47.0</td>\n",
       "      <td>-145.0</td>\n",
       "      <td>54.0</td>\n",
       "    </tr>\n",
       "    <tr>\n",
       "      <th>1960-11-01</th>\n",
       "      <td>390.0</td>\n",
       "      <td>-71.0</td>\n",
       "      <td>-118.0</td>\n",
       "      <td>28.0</td>\n",
       "    </tr>\n",
       "    <tr>\n",
       "      <th>1960-12-01</th>\n",
       "      <td>432.0</td>\n",
       "      <td>42.0</td>\n",
       "      <td>-29.0</td>\n",
       "      <td>27.0</td>\n",
       "    </tr>\n",
       "  </tbody>\n",
       "</table>\n",
       "</div>"
      ],
      "text/plain": [
       "            Thousands of Passengers  ...  Passengers 12 Difference\n",
       "Month                                ...                          \n",
       "1956-01-01                    284.0  ...                      42.0\n",
       "1956-02-01                    277.0  ...                      44.0\n",
       "1956-03-01                    317.0  ...                      50.0\n",
       "1956-04-01                    313.0  ...                      44.0\n",
       "1956-05-01                    318.0  ...                      48.0\n",
       "1956-06-01                    374.0  ...                      59.0\n",
       "1956-07-01                    413.0  ...                      49.0\n",
       "1956-08-01                    405.0  ...                      58.0\n",
       "1956-09-01                    355.0  ...                      43.0\n",
       "1956-10-01                    306.0  ...                      32.0\n",
       "1956-11-01                    271.0  ...                      34.0\n",
       "1956-12-01                    306.0  ...                      28.0\n",
       "1957-01-01                    315.0  ...                      31.0\n",
       "1957-02-01                    301.0  ...                      24.0\n",
       "1957-03-01                    356.0  ...                      39.0\n",
       "1957-04-01                    348.0  ...                      35.0\n",
       "1957-05-01                    355.0  ...                      37.0\n",
       "1957-06-01                    422.0  ...                      48.0\n",
       "1957-07-01                    465.0  ...                      52.0\n",
       "1957-08-01                    467.0  ...                      62.0\n",
       "1957-09-01                    404.0  ...                      49.0\n",
       "1957-10-01                    347.0  ...                      41.0\n",
       "1957-11-01                    305.0  ...                      34.0\n",
       "1957-12-01                    336.0  ...                      30.0\n",
       "1958-01-01                    340.0  ...                      25.0\n",
       "1958-02-01                    318.0  ...                      17.0\n",
       "1958-03-01                    362.0  ...                       6.0\n",
       "1958-04-01                    348.0  ...                       0.0\n",
       "1958-05-01                    363.0  ...                       8.0\n",
       "1958-06-01                    435.0  ...                      13.0\n",
       "1958-07-01                    491.0  ...                      26.0\n",
       "1958-08-01                    505.0  ...                      38.0\n",
       "1958-09-01                    404.0  ...                       0.0\n",
       "1958-10-01                    359.0  ...                      12.0\n",
       "1958-11-01                    310.0  ...                       5.0\n",
       "1958-12-01                    337.0  ...                       1.0\n",
       "1959-01-01                    360.0  ...                      20.0\n",
       "1959-02-01                    342.0  ...                      24.0\n",
       "1959-03-01                    406.0  ...                      44.0\n",
       "1959-04-01                    396.0  ...                      48.0\n",
       "1959-05-01                    420.0  ...                      57.0\n",
       "1959-06-01                    472.0  ...                      37.0\n",
       "1959-07-01                    548.0  ...                      57.0\n",
       "1959-08-01                    559.0  ...                      54.0\n",
       "1959-09-01                    463.0  ...                      59.0\n",
       "1959-10-01                    407.0  ...                      48.0\n",
       "1959-11-01                    362.0  ...                      52.0\n",
       "1959-12-01                    405.0  ...                      68.0\n",
       "1960-01-01                    417.0  ...                      57.0\n",
       "1960-02-01                    391.0  ...                      49.0\n",
       "1960-03-01                    419.0  ...                      13.0\n",
       "1960-04-01                    461.0  ...                      65.0\n",
       "1960-05-01                    472.0  ...                      52.0\n",
       "1960-06-01                    535.0  ...                      63.0\n",
       "1960-07-01                    622.0  ...                      74.0\n",
       "1960-08-01                    606.0  ...                      47.0\n",
       "1960-09-01                    508.0  ...                      45.0\n",
       "1960-10-01                    461.0  ...                      54.0\n",
       "1960-11-01                    390.0  ...                      28.0\n",
       "1960-12-01                    432.0  ...                      27.0\n",
       "\n",
       "[60 rows x 4 columns]"
      ]
     },
     "execution_count": 70,
     "metadata": {},
     "output_type": "execute_result"
    }
   ],
   "source": [
    "test_data"
   ]
  },
  {
   "cell_type": "markdown",
   "id": "41e9a964",
   "metadata": {},
   "source": [
    "## ARIMA Model"
   ]
  },
  {
   "cell_type": "code",
   "execution_count": 75,
   "id": "f08b58ed",
   "metadata": {},
   "outputs": [],
   "source": [
    "## create a ARIMA model\n",
    "import statsmodels.api as sm"
   ]
  },
  {
   "cell_type": "code",
   "execution_count": 85,
   "id": "0516758e",
   "metadata": {},
   "outputs": [
    {
     "name": "stderr",
     "output_type": "stream",
     "text": [
      "C:\\Users\\subit\\anaconda3\\Lib\\site-packages\\statsmodels\\tsa\\base\\tsa_model.py:473: ValueWarning: No frequency information was provided, so inferred frequency MS will be used.\n",
      "  self._init_dates(dates, freq)\n",
      "C:\\Users\\subit\\anaconda3\\Lib\\site-packages\\statsmodels\\tsa\\base\\tsa_model.py:473: ValueWarning: No frequency information was provided, so inferred frequency MS will be used.\n",
      "  self._init_dates(dates, freq)\n",
      "C:\\Users\\subit\\anaconda3\\Lib\\site-packages\\statsmodels\\tsa\\base\\tsa_model.py:473: ValueWarning: No frequency information was provided, so inferred frequency MS will be used.\n",
      "  self._init_dates(dates, freq)\n"
     ]
    }
   ],
   "source": [
    "model_Arima = sm.tsa.arima.ARIMA(train_data[\"Thousands of Passengers\"],\n",
    "                                 order = (4,2,3))\n",
    "\n",
    "# Order contains the value of p,d, q respectivefy which we provide explicilty based on the observation made by the plot\n",
    "# p = 10 \n",
    "# q = 12 Spike in the plot at the point\n",
    "# d = 2 as we have done 2 differencing here"
   ]
  },
  {
   "cell_type": "code",
   "execution_count": 86,
   "id": "e1144d4c",
   "metadata": {},
   "outputs": [
    {
     "name": "stderr",
     "output_type": "stream",
     "text": [
      "C:\\Users\\subit\\anaconda3\\Lib\\site-packages\\statsmodels\\base\\model.py:607: ConvergenceWarning: Maximum Likelihood optimization failed to converge. Check mle_retvals\n",
      "  warnings.warn(\"Maximum Likelihood optimization failed to \"\n"
     ]
    }
   ],
   "source": [
    "model_arima_fit = model_Arima.fit()"
   ]
  },
  {
   "cell_type": "code",
   "execution_count": 87,
   "id": "52a02961",
   "metadata": {},
   "outputs": [
    {
     "data": {
      "text/html": [
       "<table class=\"simpletable\">\n",
       "<caption>SARIMAX Results</caption>\n",
       "<tr>\n",
       "  <th>Dep. Variable:</th>   <td>Thousands of Passengers</td> <th>  No. Observations:  </th>    <td>84</td>   \n",
       "</tr>\n",
       "<tr>\n",
       "  <th>Model:</th>               <td>ARIMA(4, 2, 3)</td>      <th>  Log Likelihood     </th> <td>-355.973</td>\n",
       "</tr>\n",
       "<tr>\n",
       "  <th>Date:</th>               <td>Wed, 22 May 2024</td>     <th>  AIC                </th>  <td>727.946</td>\n",
       "</tr>\n",
       "<tr>\n",
       "  <th>Time:</th>                   <td>16:08:46</td>         <th>  BIC                </th>  <td>747.200</td>\n",
       "</tr>\n",
       "<tr>\n",
       "  <th>Sample:</th>                <td>01-01-1949</td>        <th>  HQIC               </th>  <td>735.676</td>\n",
       "</tr>\n",
       "<tr>\n",
       "  <th></th>                      <td>- 12-01-1955</td>       <th>                     </th>     <td> </td>   \n",
       "</tr>\n",
       "<tr>\n",
       "  <th>Covariance Type:</th>           <td>opg</td>           <th>                     </th>     <td> </td>   \n",
       "</tr>\n",
       "</table>\n",
       "<table class=\"simpletable\">\n",
       "<tr>\n",
       "     <td></td>       <th>coef</th>     <th>std err</th>      <th>z</th>      <th>P>|z|</th>  <th>[0.025</th>    <th>0.975]</th>  \n",
       "</tr>\n",
       "<tr>\n",
       "  <th>ar.L1</th>  <td>   -0.3345</td> <td>    0.134</td> <td>   -2.495</td> <td> 0.013</td> <td>   -0.597</td> <td>   -0.072</td>\n",
       "</tr>\n",
       "<tr>\n",
       "  <th>ar.L2</th>  <td>   -0.8518</td> <td>    0.135</td> <td>   -6.328</td> <td> 0.000</td> <td>   -1.116</td> <td>   -0.588</td>\n",
       "</tr>\n",
       "<tr>\n",
       "  <th>ar.L3</th>  <td>    0.1168</td> <td>    0.135</td> <td>    0.863</td> <td> 0.388</td> <td>   -0.148</td> <td>    0.382</td>\n",
       "</tr>\n",
       "<tr>\n",
       "  <th>ar.L4</th>  <td>   -0.4218</td> <td>    0.135</td> <td>   -3.132</td> <td> 0.002</td> <td>   -0.686</td> <td>   -0.158</td>\n",
       "</tr>\n",
       "<tr>\n",
       "  <th>ma.L1</th>  <td>   -0.2997</td> <td>   39.779</td> <td>   -0.008</td> <td> 0.994</td> <td>  -78.265</td> <td>   77.666</td>\n",
       "</tr>\n",
       "<tr>\n",
       "  <th>ma.L2</th>  <td>    0.2876</td> <td>   27.850</td> <td>    0.010</td> <td> 0.992</td> <td>  -54.298</td> <td>   54.874</td>\n",
       "</tr>\n",
       "<tr>\n",
       "  <th>ma.L3</th>  <td>   -0.9877</td> <td>   39.358</td> <td>   -0.025</td> <td> 0.980</td> <td>  -78.128</td> <td>   76.153</td>\n",
       "</tr>\n",
       "<tr>\n",
       "  <th>sigma2</th> <td>  307.1639</td> <td> 1.22e+04</td> <td>    0.025</td> <td> 0.980</td> <td>-2.37e+04</td> <td> 2.43e+04</td>\n",
       "</tr>\n",
       "</table>\n",
       "<table class=\"simpletable\">\n",
       "<tr>\n",
       "  <th>Ljung-Box (L1) (Q):</th>     <td>0.24</td> <th>  Jarque-Bera (JB):  </th> <td>0.50</td>\n",
       "</tr>\n",
       "<tr>\n",
       "  <th>Prob(Q):</th>                <td>0.62</td> <th>  Prob(JB):          </th> <td>0.78</td>\n",
       "</tr>\n",
       "<tr>\n",
       "  <th>Heteroskedasticity (H):</th> <td>3.64</td> <th>  Skew:              </th> <td>0.17</td>\n",
       "</tr>\n",
       "<tr>\n",
       "  <th>Prob(H) (two-sided):</th>    <td>0.00</td> <th>  Kurtosis:          </th> <td>2.81</td>\n",
       "</tr>\n",
       "</table><br/><br/>Warnings:<br/>[1] Covariance matrix calculated using the outer product of gradients (complex-step)."
      ],
      "text/latex": [
       "\\begin{center}\n",
       "\\begin{tabular}{lclc}\n",
       "\\toprule\n",
       "\\textbf{Dep. Variable:}          & Thousands of Passengers & \\textbf{  No. Observations:  } &     84      \\\\\n",
       "\\textbf{Model:}                  &      ARIMA(4, 2, 3)     & \\textbf{  Log Likelihood     } &  -355.973   \\\\\n",
       "\\textbf{Date:}                   &     Wed, 22 May 2024    & \\textbf{  AIC                } &  727.946    \\\\\n",
       "\\textbf{Time:}                   &         16:08:46        & \\textbf{  BIC                } &  747.200    \\\\\n",
       "\\textbf{Sample:}                 &        01-01-1949       & \\textbf{  HQIC               } &  735.676    \\\\\n",
       "\\textbf{}                        &       - 12-01-1955      & \\textbf{                     } &             \\\\\n",
       "\\textbf{Covariance Type:}        &           opg           & \\textbf{                     } &             \\\\\n",
       "\\bottomrule\n",
       "\\end{tabular}\n",
       "\\begin{tabular}{lcccccc}\n",
       "                & \\textbf{coef} & \\textbf{std err} & \\textbf{z} & \\textbf{P$> |$z$|$} & \\textbf{[0.025} & \\textbf{0.975]}  \\\\\n",
       "\\midrule\n",
       "\\textbf{ar.L1}  &      -0.3345  &        0.134     &    -2.495  &         0.013        &       -0.597    &       -0.072     \\\\\n",
       "\\textbf{ar.L2}  &      -0.8518  &        0.135     &    -6.328  &         0.000        &       -1.116    &       -0.588     \\\\\n",
       "\\textbf{ar.L3}  &       0.1168  &        0.135     &     0.863  &         0.388        &       -0.148    &        0.382     \\\\\n",
       "\\textbf{ar.L4}  &      -0.4218  &        0.135     &    -3.132  &         0.002        &       -0.686    &       -0.158     \\\\\n",
       "\\textbf{ma.L1}  &      -0.2997  &       39.779     &    -0.008  &         0.994        &      -78.265    &       77.666     \\\\\n",
       "\\textbf{ma.L2}  &       0.2876  &       27.850     &     0.010  &         0.992        &      -54.298    &       54.874     \\\\\n",
       "\\textbf{ma.L3}  &      -0.9877  &       39.358     &    -0.025  &         0.980        &      -78.128    &       76.153     \\\\\n",
       "\\textbf{sigma2} &     307.1639  &     1.22e+04     &     0.025  &         0.980        &    -2.37e+04    &     2.43e+04     \\\\\n",
       "\\bottomrule\n",
       "\\end{tabular}\n",
       "\\begin{tabular}{lclc}\n",
       "\\textbf{Ljung-Box (L1) (Q):}     & 0.24 & \\textbf{  Jarque-Bera (JB):  } & 0.50  \\\\\n",
       "\\textbf{Prob(Q):}                & 0.62 & \\textbf{  Prob(JB):          } & 0.78  \\\\\n",
       "\\textbf{Heteroskedasticity (H):} & 3.64 & \\textbf{  Skew:              } & 0.17  \\\\\n",
       "\\textbf{Prob(H) (two-sided):}    & 0.00 & \\textbf{  Kurtosis:          } & 2.81  \\\\\n",
       "\\bottomrule\n",
       "\\end{tabular}\n",
       "%\\caption{SARIMAX Results}\n",
       "\\end{center}\n",
       "\n",
       "Warnings: \\newline\n",
       " [1] Covariance matrix calculated using the outer product of gradients (complex-step)."
      ],
      "text/plain": [
       "<class 'statsmodels.iolib.summary.Summary'>\n",
       "\"\"\"\n",
       "                                  SARIMAX Results                                  \n",
       "===================================================================================\n",
       "Dep. Variable:     Thousands of Passengers   No. Observations:                   84\n",
       "Model:                      ARIMA(4, 2, 3)   Log Likelihood                -355.973\n",
       "Date:                     Wed, 22 May 2024   AIC                            727.946\n",
       "Time:                             16:08:46   BIC                            747.200\n",
       "Sample:                         01-01-1949   HQIC                           735.676\n",
       "                              - 12-01-1955                                         \n",
       "Covariance Type:                       opg                                         \n",
       "==============================================================================\n",
       "                 coef    std err          z      P>|z|      [0.025      0.975]\n",
       "------------------------------------------------------------------------------\n",
       "ar.L1         -0.3345      0.134     -2.495      0.013      -0.597      -0.072\n",
       "ar.L2         -0.8518      0.135     -6.328      0.000      -1.116      -0.588\n",
       "ar.L3          0.1168      0.135      0.863      0.388      -0.148       0.382\n",
       "ar.L4         -0.4218      0.135     -3.132      0.002      -0.686      -0.158\n",
       "ma.L1         -0.2997     39.779     -0.008      0.994     -78.265      77.666\n",
       "ma.L2          0.2876     27.850      0.010      0.992     -54.298      54.874\n",
       "ma.L3         -0.9877     39.358     -0.025      0.980     -78.128      76.153\n",
       "sigma2       307.1639   1.22e+04      0.025      0.980   -2.37e+04    2.43e+04\n",
       "===================================================================================\n",
       "Ljung-Box (L1) (Q):                   0.24   Jarque-Bera (JB):                 0.50\n",
       "Prob(Q):                              0.62   Prob(JB):                         0.78\n",
       "Heteroskedasticity (H):               3.64   Skew:                             0.17\n",
       "Prob(H) (two-sided):                  0.00   Kurtosis:                         2.81\n",
       "===================================================================================\n",
       "\n",
       "Warnings:\n",
       "[1] Covariance matrix calculated using the outer product of gradients (complex-step).\n",
       "\"\"\""
      ]
     },
     "execution_count": 87,
     "metadata": {},
     "output_type": "execute_result"
    }
   ],
   "source": [
    "model_arima_fit.summary()"
   ]
  },
  {
   "cell_type": "code",
   "execution_count": 88,
   "id": "c79b14b2",
   "metadata": {},
   "outputs": [
    {
     "name": "stdout",
     "output_type": "stream",
     "text": [
      "1956-01-01 00:00:00\n",
      "1960-12-01 00:00:00\n"
     ]
    }
   ],
   "source": [
    "## Prediction\n",
    "\n",
    "pred_start_date = test_data.index[0]\n",
    "pred_end_date = test_data.index[-1]\n",
    "print(pred_start_date)\n",
    "print(pred_end_date)"
   ]
  },
  {
   "cell_type": "code",
   "execution_count": 89,
   "id": "f8e3ad55",
   "metadata": {},
   "outputs": [],
   "source": [
    "pred_model = model_arima_fit.predict(start = pred_start_date,\n",
    "                                    end = pred_end_date)\n",
    "residuals = test_data['Thousands of Passengers'] -pred_model"
   ]
  },
  {
   "cell_type": "code",
   "execution_count": 90,
   "id": "eca151cd",
   "metadata": {},
   "outputs": [
    {
     "data": {
      "text/plain": [
       "1956-01-01    302.769017\n",
       "1956-02-01    293.171584\n",
       "1956-03-01    300.872607\n",
       "1956-04-01    297.266704\n",
       "1956-05-01    285.541016\n",
       "1956-06-01    302.677891\n",
       "1956-07-01    308.459703\n",
       "1956-08-01    297.275424\n",
       "1956-09-01    308.234121\n",
       "1956-10-01    312.737888\n",
       "1956-11-01    303.347483\n",
       "1956-12-01    313.844949\n",
       "1957-01-01    319.431541\n",
       "1957-02-01    310.820312\n",
       "1957-03-01    319.324292\n",
       "1957-04-01    325.235017\n",
       "1957-05-01    317.847708\n",
       "1957-06-01    325.104737\n",
       "1957-07-01    331.268704\n",
       "1957-08-01    324.865053\n",
       "1957-09-01    330.915483\n",
       "1957-10-01    337.200699\n",
       "1957-11-01    331.792334\n",
       "1957-12-01    336.850756\n",
       "1958-01-01    343.143099\n",
       "1958-02-01    338.642435\n",
       "1958-03-01    342.855512\n",
       "1958-04-01    349.076691\n",
       "1958-05-01    345.422895\n",
       "1958-06-01    348.931735\n",
       "1958-07-01    355.015362\n",
       "1958-08-01    352.136363\n",
       "1958-09-01    355.063760\n",
       "1958-10-01    360.962881\n",
       "1958-11-01    358.789373\n",
       "1958-12-01    361.243245\n",
       "1959-01-01    366.923519\n",
       "1959-02-01    365.386777\n",
       "1959-03-01    367.461197\n",
       "1959-04-01    372.900170\n",
       "1959-05-01    371.934029\n",
       "1959-06-01    373.710233\n",
       "1959-07-01    378.894786\n",
       "1959-08-01    378.436186\n",
       "1959-09-01    379.983832\n",
       "1959-10-01    384.908588\n",
       "1959-11-01    384.898157\n",
       "1959-12-01    386.276421\n",
       "1960-01-01    390.942146\n",
       "1960-02-01    391.324558\n",
       "1960-03-01    392.583247\n",
       "1960-04-01    396.995538\n",
       "1960-05-01    397.719712\n",
       "1960-06-01    398.900296\n",
       "1960-07-01    403.068439\n",
       "1960-08-01    404.087616\n",
       "1960-09-01    405.224216\n",
       "1960-10-01    409.160218\n",
       "1960-11-01    410.431943\n",
       "1960-12-01    411.552238\n",
       "Freq: MS, Name: predicted_mean, dtype: float64"
      ]
     },
     "execution_count": 90,
     "metadata": {},
     "output_type": "execute_result"
    }
   ],
   "source": [
    "pred_model"
   ]
  },
  {
   "cell_type": "code",
   "execution_count": 91,
   "id": "130f612a",
   "metadata": {},
   "outputs": [
    {
     "data": {
      "text/plain": [
       "Month\n",
       "1956-01-01    -18.769017\n",
       "1956-02-01    -16.171584\n",
       "1956-03-01     16.127393\n",
       "1956-04-01     15.733296\n",
       "1956-05-01     32.458984\n",
       "1956-06-01     71.322109\n",
       "1956-07-01    104.540297\n",
       "1956-08-01    107.724576\n",
       "1956-09-01     46.765879\n",
       "1956-10-01     -6.737888\n",
       "1956-11-01    -32.347483\n",
       "1956-12-01     -7.844949\n",
       "1957-01-01     -4.431541\n",
       "1957-02-01     -9.820312\n",
       "1957-03-01     36.675708\n",
       "1957-04-01     22.764983\n",
       "1957-05-01     37.152292\n",
       "1957-06-01     96.895263\n",
       "1957-07-01    133.731296\n",
       "1957-08-01    142.134947\n",
       "1957-09-01     73.084517\n",
       "1957-10-01      9.799301\n",
       "1957-11-01    -26.792334\n",
       "1957-12-01     -0.850756\n",
       "1958-01-01     -3.143099\n",
       "1958-02-01    -20.642435\n",
       "1958-03-01     19.144488\n",
       "1958-04-01     -1.076691\n",
       "1958-05-01     17.577105\n",
       "1958-06-01     86.068265\n",
       "1958-07-01    135.984638\n",
       "1958-08-01    152.863637\n",
       "1958-09-01     48.936240\n",
       "1958-10-01     -1.962881\n",
       "1958-11-01    -48.789373\n",
       "1958-12-01    -24.243245\n",
       "1959-01-01     -6.923519\n",
       "1959-02-01    -23.386777\n",
       "1959-03-01     38.538803\n",
       "1959-04-01     23.099830\n",
       "1959-05-01     48.065971\n",
       "1959-06-01     98.289767\n",
       "1959-07-01    169.105214\n",
       "1959-08-01    180.563814\n",
       "1959-09-01     83.016168\n",
       "1959-10-01     22.091412\n",
       "1959-11-01    -22.898157\n",
       "1959-12-01     18.723579\n",
       "1960-01-01     26.057854\n",
       "1960-02-01     -0.324558\n",
       "1960-03-01     26.416753\n",
       "1960-04-01     64.004462\n",
       "1960-05-01     74.280288\n",
       "1960-06-01    136.099704\n",
       "1960-07-01    218.931561\n",
       "1960-08-01    201.912384\n",
       "1960-09-01    102.775784\n",
       "1960-10-01     51.839782\n",
       "1960-11-01    -20.431943\n",
       "1960-12-01     20.447762\n",
       "dtype: float64"
      ]
     },
     "execution_count": 91,
     "metadata": {},
     "output_type": "execute_result"
    }
   ],
   "source": [
    "residuals"
   ]
  },
  {
   "cell_type": "code",
   "execution_count": 83,
   "id": "8670c0fe",
   "metadata": {},
   "outputs": [
    {
     "data": {
      "text/plain": [
       "<Axes: ylabel='Density'>"
      ]
     },
     "execution_count": 83,
     "metadata": {},
     "output_type": "execute_result"
    },
    {
     "data": {
      "image/png": "[encoded data removed]",
      "text/plain": [
       "<Figure size 640x480 with 1 Axes>"
      ]
     },
     "metadata": {},
     "output_type": "display_data"
    }
   ],
   "source": [
    "model_arima_fit.resid.plot(kind = 'kde')"
   ]
  },
  {
   "cell_type": "code",
   "execution_count": 92,
   "id": "a2ca033d",
   "metadata": {},
   "outputs": [
    {
     "name": "stderr",
     "output_type": "stream",
     "text": [
      "C:\\Users\\subit\\AppData\\Local\\Temp\\ipykernel_21680\\3265189664.py:2: SettingWithCopyWarning: \n",
      "A value is trying to be set on a copy of a slice from a DataFrame.\n",
      "Try using .loc[row_indexer,col_indexer] = value instead\n",
      "\n",
      "See the caveats in the documentation: https://pandas.pydata.org/pandas-docs/stable/user_guide/indexing.html#returning-a-view-versus-a-copy\n",
      "  test_data[\"Predicted_ARIMA\"] = pred_model\n"
     ]
    }
   ],
   "source": [
    "# create a new col with predicted value of test data\n",
    "test_data[\"Predicted_ARIMA\"] = pred_model"
   ]
  },
  {
   "cell_type": "code",
   "execution_count": 93,
   "id": "a88045ba",
   "metadata": {},
   "outputs": [
    {
     "data": {
      "text/plain": [
       "<Axes: xlabel='Month'>"
      ]
     },
     "execution_count": 93,
     "metadata": {},
     "output_type": "execute_result"
    },
    {
     "data": {
      "image/png": "[encoded data removed]",
      "text/plain": [
       "<Figure size 640x480 with 1 Axes>"
      ]
     },
     "metadata": {},
     "output_type": "display_data"
    }
   ],
   "source": [
    "# Plotting the actual and predicted values\n",
    "test_data[[\"Thousands of Passengers\", \"Predicted_ARIMA\"]].plot()"
   ]
  },
  {
   "cell_type": "markdown",
   "id": "e0ce25fc",
   "metadata": {},
   "source": [
    "We can see that there is a huge difference between predicted and actual value. That means ARIMA model doesn't work well with seasonal data"
   ]
  },
  {
   "cell_type": "markdown",
   "id": "938e73a7",
   "metadata": {},
   "source": [
    "## SARIMA model"
   ]
  },
  {
   "cell_type": "code",
   "execution_count": 99,
   "id": "9762cdf3",
   "metadata": {},
   "outputs": [],
   "source": [
    "from statsmodels.tsa.statespace.sarimax import SARIMAX"
   ]
  },
  {
   "cell_type": "code",
   "execution_count": 100,
   "id": "f1908d9e",
   "metadata": {},
   "outputs": [
    {
     "name": "stderr",
     "output_type": "stream",
     "text": [
      "C:\\Users\\subit\\anaconda3\\Lib\\site-packages\\statsmodels\\tsa\\base\\tsa_model.py:473: ValueWarning: No frequency information was provided, so inferred frequency MS will be used.\n",
      "  self._init_dates(dates, freq)\n",
      "C:\\Users\\subit\\anaconda3\\Lib\\site-packages\\statsmodels\\tsa\\base\\tsa_model.py:473: ValueWarning: No frequency information was provided, so inferred frequency MS will be used.\n",
      "  self._init_dates(dates, freq)\n"
     ]
    }
   ],
   "source": [
    "model_SARIMA = SARIMAX(train_data[\"Thousands of Passengers\"],\n",
    "                                  order = (3,0,5),seasonal_order=(0,1,0,12))\n",
    "\n",
    "# seasonal_order contains the value of p,d,q and seasonal number respecitvely\n",
    "# p = 0\n",
    "# d = 1\n",
    "# q= 0\n",
    "# seasonal = 12"
   ]
  },
  {
   "cell_type": "code",
   "execution_count": 101,
   "id": "df0538b9",
   "metadata": {},
   "outputs": [
    {
     "name": "stderr",
     "output_type": "stream",
     "text": [
      "C:\\Users\\subit\\anaconda3\\Lib\\site-packages\\statsmodels\\base\\model.py:607: ConvergenceWarning: Maximum Likelihood optimization failed to converge. Check mle_retvals\n",
      "  warnings.warn(\"Maximum Likelihood optimization failed to \"\n"
     ]
    }
   ],
   "source": [
    "model_sarima_fit = model_SARIMA.fit()"
   ]
  },
  {
   "cell_type": "code",
   "execution_count": 102,
   "id": "80b696d0",
   "metadata": {},
   "outputs": [
    {
     "data": {
      "text/html": [
       "<table class=\"simpletable\">\n",
       "<caption>SARIMAX Results</caption>\n",
       "<tr>\n",
       "  <th>Dep. Variable:</th>       <td>Thousands of Passengers</td>     <th>  No. Observations:  </th>    <td>84</td>   \n",
       "</tr>\n",
       "<tr>\n",
       "  <th>Model:</th>           <td>SARIMAX(3, 0, 5)x(0, 1, [], 12)</td> <th>  Log Likelihood     </th> <td>-265.240</td>\n",
       "</tr>\n",
       "<tr>\n",
       "  <th>Date:</th>                   <td>Wed, 22 May 2024</td>         <th>  AIC                </th>  <td>548.481</td>\n",
       "</tr>\n",
       "<tr>\n",
       "  <th>Time:</th>                       <td>16:21:41</td>             <th>  BIC                </th>  <td>568.971</td>\n",
       "</tr>\n",
       "<tr>\n",
       "  <th>Sample:</th>                    <td>01-01-1949</td>            <th>  HQIC               </th>  <td>556.638</td>\n",
       "</tr>\n",
       "<tr>\n",
       "  <th></th>                          <td>- 12-01-1955</td>           <th>                     </th>     <td> </td>   \n",
       "</tr>\n",
       "<tr>\n",
       "  <th>Covariance Type:</th>               <td>opg</td>               <th>                     </th>     <td> </td>   \n",
       "</tr>\n",
       "</table>\n",
       "<table class=\"simpletable\">\n",
       "<tr>\n",
       "     <td></td>       <th>coef</th>     <th>std err</th>      <th>z</th>      <th>P>|z|</th>  <th>[0.025</th>    <th>0.975]</th>  \n",
       "</tr>\n",
       "<tr>\n",
       "  <th>ar.L1</th>  <td>    0.5988</td> <td>    0.938</td> <td>    0.639</td> <td> 0.523</td> <td>   -1.239</td> <td>    2.437</td>\n",
       "</tr>\n",
       "<tr>\n",
       "  <th>ar.L2</th>  <td>    0.8312</td> <td>    0.232</td> <td>    3.579</td> <td> 0.000</td> <td>    0.376</td> <td>    1.286</td>\n",
       "</tr>\n",
       "<tr>\n",
       "  <th>ar.L3</th>  <td>   -0.4531</td> <td>    0.894</td> <td>   -0.507</td> <td> 0.612</td> <td>   -2.205</td> <td>    1.299</td>\n",
       "</tr>\n",
       "<tr>\n",
       "  <th>ma.L1</th>  <td>    0.1832</td> <td>    1.164</td> <td>    0.157</td> <td> 0.875</td> <td>   -2.099</td> <td>    2.465</td>\n",
       "</tr>\n",
       "<tr>\n",
       "  <th>ma.L2</th>  <td>   -0.5346</td> <td>    1.262</td> <td>   -0.424</td> <td> 0.672</td> <td>   -3.008</td> <td>    1.939</td>\n",
       "</tr>\n",
       "<tr>\n",
       "  <th>ma.L3</th>  <td>   -0.0986</td> <td>    0.384</td> <td>   -0.257</td> <td> 0.797</td> <td>   -0.851</td> <td>    0.654</td>\n",
       "</tr>\n",
       "<tr>\n",
       "  <th>ma.L4</th>  <td>   -0.1272</td> <td>    0.337</td> <td>   -0.377</td> <td> 0.706</td> <td>   -0.788</td> <td>    0.533</td>\n",
       "</tr>\n",
       "<tr>\n",
       "  <th>ma.L5</th>  <td>    0.2472</td> <td>    0.357</td> <td>    0.693</td> <td> 0.488</td> <td>   -0.452</td> <td>    0.946</td>\n",
       "</tr>\n",
       "<tr>\n",
       "  <th>sigma2</th> <td>   87.7283</td> <td>   81.079</td> <td>    1.082</td> <td> 0.279</td> <td>  -71.183</td> <td>  246.640</td>\n",
       "</tr>\n",
       "</table>\n",
       "<table class=\"simpletable\">\n",
       "<tr>\n",
       "  <th>Ljung-Box (L1) (Q):</th>     <td>0.02</td> <th>  Jarque-Bera (JB):  </th> <td>2.68</td>\n",
       "</tr>\n",
       "<tr>\n",
       "  <th>Prob(Q):</th>                <td>0.88</td> <th>  Prob(JB):          </th> <td>0.26</td>\n",
       "</tr>\n",
       "<tr>\n",
       "  <th>Heteroskedasticity (H):</th> <td>2.05</td> <th>  Skew:              </th> <td>0.46</td>\n",
       "</tr>\n",
       "<tr>\n",
       "  <th>Prob(H) (two-sided):</th>    <td>0.09</td> <th>  Kurtosis:          </th> <td>2.77</td>\n",
       "</tr>\n",
       "</table><br/><br/>Warnings:<br/>[1] Covariance matrix calculated using the outer product of gradients (complex-step)."
      ],
      "text/latex": [
       "\\begin{center}\n",
       "\\begin{tabular}{lclc}\n",
       "\\toprule\n",
       "\\textbf{Dep. Variable:}          &     Thousands of Passengers     & \\textbf{  No. Observations:  } &     84      \\\\\n",
       "\\textbf{Model:}                  & SARIMAX(3, 0, 5)x(0, 1, [], 12) & \\textbf{  Log Likelihood     } &  -265.240   \\\\\n",
       "\\textbf{Date:}                   &         Wed, 22 May 2024        & \\textbf{  AIC                } &  548.481    \\\\\n",
       "\\textbf{Time:}                   &             16:21:41            & \\textbf{  BIC                } &  568.971    \\\\\n",
       "\\textbf{Sample:}                 &            01-01-1949           & \\textbf{  HQIC               } &  556.638    \\\\\n",
       "\\textbf{}                        &           - 12-01-1955          & \\textbf{                     } &             \\\\\n",
       "\\textbf{Covariance Type:}        &               opg               & \\textbf{                     } &             \\\\\n",
       "\\bottomrule\n",
       "\\end{tabular}\n",
       "\\begin{tabular}{lcccccc}\n",
       "                & \\textbf{coef} & \\textbf{std err} & \\textbf{z} & \\textbf{P$> |$z$|$} & \\textbf{[0.025} & \\textbf{0.975]}  \\\\\n",
       "\\midrule\n",
       "\\textbf{ar.L1}  &       0.5988  &        0.938     &     0.639  &         0.523        &       -1.239    &        2.437     \\\\\n",
       "\\textbf{ar.L2}  &       0.8312  &        0.232     &     3.579  &         0.000        &        0.376    &        1.286     \\\\\n",
       "\\textbf{ar.L3}  &      -0.4531  &        0.894     &    -0.507  &         0.612        &       -2.205    &        1.299     \\\\\n",
       "\\textbf{ma.L1}  &       0.1832  &        1.164     &     0.157  &         0.875        &       -2.099    &        2.465     \\\\\n",
       "\\textbf{ma.L2}  &      -0.5346  &        1.262     &    -0.424  &         0.672        &       -3.008    &        1.939     \\\\\n",
       "\\textbf{ma.L3}  &      -0.0986  &        0.384     &    -0.257  &         0.797        &       -0.851    &        0.654     \\\\\n",
       "\\textbf{ma.L4}  &      -0.1272  &        0.337     &    -0.377  &         0.706        &       -0.788    &        0.533     \\\\\n",
       "\\textbf{ma.L5}  &       0.2472  &        0.357     &     0.693  &         0.488        &       -0.452    &        0.946     \\\\\n",
       "\\textbf{sigma2} &      87.7283  &       81.079     &     1.082  &         0.279        &      -71.183    &      246.640     \\\\\n",
       "\\bottomrule\n",
       "\\end{tabular}\n",
       "\\begin{tabular}{lclc}\n",
       "\\textbf{Ljung-Box (L1) (Q):}     & 0.02 & \\textbf{  Jarque-Bera (JB):  } & 2.68  \\\\\n",
       "\\textbf{Prob(Q):}                & 0.88 & \\textbf{  Prob(JB):          } & 0.26  \\\\\n",
       "\\textbf{Heteroskedasticity (H):} & 2.05 & \\textbf{  Skew:              } & 0.46  \\\\\n",
       "\\textbf{Prob(H) (two-sided):}    & 0.09 & \\textbf{  Kurtosis:          } & 2.77  \\\\\n",
       "\\bottomrule\n",
       "\\end{tabular}\n",
       "%\\caption{SARIMAX Results}\n",
       "\\end{center}\n",
       "\n",
       "Warnings: \\newline\n",
       " [1] Covariance matrix calculated using the outer product of gradients (complex-step)."
      ],
      "text/plain": [
       "<class 'statsmodels.iolib.summary.Summary'>\n",
       "\"\"\"\n",
       "                                      SARIMAX Results                                      \n",
       "===========================================================================================\n",
       "Dep. Variable:             Thousands of Passengers   No. Observations:                   84\n",
       "Model:             SARIMAX(3, 0, 5)x(0, 1, [], 12)   Log Likelihood                -265.240\n",
       "Date:                             Wed, 22 May 2024   AIC                            548.481\n",
       "Time:                                     16:21:41   BIC                            568.971\n",
       "Sample:                                 01-01-1949   HQIC                           556.638\n",
       "                                      - 12-01-1955                                         \n",
       "Covariance Type:                               opg                                         \n",
       "==============================================================================\n",
       "                 coef    std err          z      P>|z|      [0.025      0.975]\n",
       "------------------------------------------------------------------------------\n",
       "ar.L1          0.5988      0.938      0.639      0.523      -1.239       2.437\n",
       "ar.L2          0.8312      0.232      3.579      0.000       0.376       1.286\n",
       "ar.L3         -0.4531      0.894     -0.507      0.612      -2.205       1.299\n",
       "ma.L1          0.1832      1.164      0.157      0.875      -2.099       2.465\n",
       "ma.L2         -0.5346      1.262     -0.424      0.672      -3.008       1.939\n",
       "ma.L3         -0.0986      0.384     -0.257      0.797      -0.851       0.654\n",
       "ma.L4         -0.1272      0.337     -0.377      0.706      -0.788       0.533\n",
       "ma.L5          0.2472      0.357      0.693      0.488      -0.452       0.946\n",
       "sigma2        87.7283     81.079      1.082      0.279     -71.183     246.640\n",
       "===================================================================================\n",
       "Ljung-Box (L1) (Q):                   0.02   Jarque-Bera (JB):                 2.68\n",
       "Prob(Q):                              0.88   Prob(JB):                         0.26\n",
       "Heteroskedasticity (H):               2.05   Skew:                             0.46\n",
       "Prob(H) (two-sided):                  0.09   Kurtosis:                         2.77\n",
       "===================================================================================\n",
       "\n",
       "Warnings:\n",
       "[1] Covariance matrix calculated using the outer product of gradients (complex-step).\n",
       "\"\"\""
      ]
     },
     "execution_count": 102,
     "metadata": {},
     "output_type": "execute_result"
    }
   ],
   "source": [
    "model_sarima_fit.summary()"
   ]
  },
  {
   "cell_type": "code",
   "execution_count": 106,
   "id": "ad1133a5",
   "metadata": {},
   "outputs": [],
   "source": [
    "# Prediction\n",
    "pred_sarima = model_sarima_fit.predict(start = pred_start_date,\n",
    "                                    end = pred_end_date)\n",
    "residuals_sarima = test_data['Thousands of Passengers'] -pred_sarima"
   ]
  },
  {
   "cell_type": "code",
   "execution_count": 107,
   "id": "40682408",
   "metadata": {},
   "outputs": [
    {
     "data": {
      "text/plain": [
       "1956-01-01    286.187065\n",
       "1956-02-01    281.278436\n",
       "1956-03-01    309.918612\n",
       "1956-04-01    310.678700\n",
       "1956-05-01    311.335396\n",
       "1956-06-01    354.950525\n",
       "1956-07-01    403.397643\n",
       "1956-08-01    385.071015\n",
       "1956-09-01    349.444485\n",
       "1956-10-01    310.217119\n",
       "1956-11-01    272.562429\n",
       "1956-12-01    312.434071\n",
       "1957-01-01    319.957354\n",
       "1957-02-01    314.009977\n",
       "1957-03-01    341.987618\n",
       "1957-04-01    341.788306\n",
       "1957-05-01    341.790420\n",
       "1957-06-01    384.516300\n",
       "1957-07-01    432.321503\n",
       "1957-08-01    413.167916\n",
       "1957-09-01    376.915522\n",
       "1957-10-01    336.916843\n",
       "1957-11-01    298.654726\n",
       "1957-12-01    337.805079\n",
       "1958-01-01    344.741007\n",
       "1958-02-01    338.117585\n",
       "1958-03-01    365.528982\n",
       "1958-04-01    364.694779\n",
       "1958-05-01    364.152342\n",
       "1958-06-01    406.280964\n",
       "1958-07-01    453.563538\n",
       "1958-08-01    433.847272\n",
       "1958-09-01    397.094125\n",
       "1958-10-01    356.564676\n",
       "1958-11-01    317.823433\n",
       "1958-12-01    356.472578\n",
       "1959-01-01    362.950600\n",
       "1959-02-01    355.853449\n",
       "1959-03-01    382.827641\n",
       "1959-04-01    381.545332\n",
       "1959-05-01    380.585790\n",
       "1959-06-01    422.290261\n",
       "1959-07-01    469.175172\n",
       "1959-08-01    449.057202\n",
       "1959-09-01    411.925140\n",
       "1959-10-01    371.015066\n",
       "1959-11-01    331.912942\n",
       "1959-12-01    370.201285\n",
       "1960-01-01    376.335739\n",
       "1960-02-01    368.896459\n",
       "1960-03-01    395.543673\n",
       "1960-04-01    393.936848\n",
       "1960-05-01    392.666204\n",
       "1960-06-01    434.062789\n",
       "1960-07-01    480.651772\n",
       "1960-08-01    460.241632\n",
       "1960-09-01    422.828134\n",
       "1960-10-01    381.640753\n",
       "1960-11-01    342.271019\n",
       "1960-12-01    380.296125\n",
       "Freq: MS, Name: predicted_mean, dtype: float64"
      ]
     },
     "execution_count": 107,
     "metadata": {},
     "output_type": "execute_result"
    }
   ],
   "source": [
    "pred_sarima"
   ]
  },
  {
   "cell_type": "code",
   "execution_count": 108,
   "id": "89f70ff3",
   "metadata": {},
   "outputs": [
    {
     "data": {
      "text/plain": [
       "Month\n",
       "1956-01-01     -2.187065\n",
       "1956-02-01     -4.278436\n",
       "1956-03-01      7.081388\n",
       "1956-04-01      2.321300\n",
       "1956-05-01      6.664604\n",
       "1956-06-01     19.049475\n",
       "1956-07-01      9.602357\n",
       "1956-08-01     19.928985\n",
       "1956-09-01      5.555515\n",
       "1956-10-01     -4.217119\n",
       "1956-11-01     -1.562429\n",
       "1956-12-01     -6.434071\n",
       "1957-01-01     -4.957354\n",
       "1957-02-01    -13.009977\n",
       "1957-03-01     14.012382\n",
       "1957-04-01      6.211694\n",
       "1957-05-01     13.209580\n",
       "1957-06-01     37.483700\n",
       "1957-07-01     32.678497\n",
       "1957-08-01     53.832084\n",
       "1957-09-01     27.084478\n",
       "1957-10-01     10.083157\n",
       "1957-11-01      6.345274\n",
       "1957-12-01     -1.805079\n",
       "1958-01-01     -4.741007\n",
       "1958-02-01    -20.117585\n",
       "1958-03-01     -3.528982\n",
       "1958-04-01    -16.694779\n",
       "1958-05-01     -1.152342\n",
       "1958-06-01     28.719036\n",
       "1958-07-01     37.436462\n",
       "1958-08-01     71.152728\n",
       "1958-09-01      6.905875\n",
       "1958-10-01      2.435324\n",
       "1958-11-01     -7.823433\n",
       "1958-12-01    -19.472578\n",
       "1959-01-01     -2.950600\n",
       "1959-02-01    -13.853449\n",
       "1959-03-01     23.172359\n",
       "1959-04-01     14.454668\n",
       "1959-05-01     39.414210\n",
       "1959-06-01     49.709739\n",
       "1959-07-01     78.824828\n",
       "1959-08-01    109.942798\n",
       "1959-09-01     51.074860\n",
       "1959-10-01     35.984934\n",
       "1959-11-01     30.087058\n",
       "1959-12-01     34.798715\n",
       "1960-01-01     40.664261\n",
       "1960-02-01     22.103541\n",
       "1960-03-01     23.456327\n",
       "1960-04-01     67.063152\n",
       "1960-05-01     79.333796\n",
       "1960-06-01    100.937211\n",
       "1960-07-01    141.348228\n",
       "1960-08-01    145.758368\n",
       "1960-09-01     85.171866\n",
       "1960-10-01     79.359247\n",
       "1960-11-01     47.728981\n",
       "1960-12-01     51.703875\n",
       "dtype: float64"
      ]
     },
     "execution_count": 108,
     "metadata": {},
     "output_type": "execute_result"
    }
   ],
   "source": [
    "residuals_sarima"
   ]
  },
  {
   "cell_type": "code",
   "execution_count": 109,
   "id": "d618c57f",
   "metadata": {},
   "outputs": [
    {
     "data": {
      "text/plain": [
       "<Axes: ylabel='Density'>"
      ]
     },
     "execution_count": 109,
     "metadata": {},
     "output_type": "execute_result"
    },
    {
     "data": {
      "image/png": "[encoded data removed]",
      "text/plain": [
       "<Figure size 640x480 with 1 Axes>"
      ]
     },
     "metadata": {},
     "output_type": "display_data"
    }
   ],
   "source": [
    "model_sarima_fit.resid.plot(kind = 'kde')"
   ]
  },
  {
   "cell_type": "code",
   "execution_count": 110,
   "id": "f5eca57b",
   "metadata": {},
   "outputs": [
    {
     "name": "stderr",
     "output_type": "stream",
     "text": [
      "C:\\Users\\subit\\AppData\\Local\\Temp\\ipykernel_21680\\1404479162.py:2: SettingWithCopyWarning: \n",
      "A value is trying to be set on a copy of a slice from a DataFrame.\n",
      "Try using .loc[row_indexer,col_indexer] = value instead\n",
      "\n",
      "See the caveats in the documentation: https://pandas.pydata.org/pandas-docs/stable/user_guide/indexing.html#returning-a-view-versus-a-copy\n",
      "  test_data[\"Predicted_SARIMA\"] = pred_sarima\n"
     ]
    }
   ],
   "source": [
    "# create a new col with predicted value of test data\n",
    "test_data[\"Predicted_SARIMA\"] = pred_sarima"
   ]
  },
  {
   "cell_type": "code",
   "execution_count": 114,
   "id": "c3696196",
   "metadata": {},
   "outputs": [
    {
     "data": {
      "text/plain": [
       "<Axes: xlabel='Month'>"
      ]
     },
     "execution_count": 114,
     "metadata": {},
     "output_type": "execute_result"
    },
    {
     "data": {
      "image/png": "[encoded data removed]",
      "text/plain": [
       "<Figure size 640x480 with 1 Axes>"
      ]
     },
     "metadata": {},
     "output_type": "display_data"
    }
   ],
   "source": [
    "# Plotting the actual and predicted values\n",
    "test_data[[\"Thousands of Passengers\", \"Predicted_SARIMA\"]].plot()"
   ]
  },
  {
   "cell_type": "markdown",
   "id": "9a1ee25c",
   "metadata": {},
   "source": [
    "We can see now there is less difference between predicted and actual value"
   ]
  },
  {
   "cell_type": "code",
   "execution_count": null,
   "id": "6d54fdf7",
   "metadata": {},
   "outputs": [],
   "source": []
  }
 ],
 "metadata": {
  "kernelspec": {
   "display_name": "Python 3 (ipykernel)",
   "language": "python",
   "name": "python3"
  },
  "language_info": {
   "codemirror_mode": {
    "name": "ipython",
    "version": 3
   },
   "file_extension": ".py",
   "mimetype": "text/x-python",
   "name": "python",
   "nbconvert_exporter": "python",
   "pygments_lexer": "ipython3",
   "version": "3.11.5"
  }
 },
 "nbformat": 4,
 "nbformat_minor": 5
}
